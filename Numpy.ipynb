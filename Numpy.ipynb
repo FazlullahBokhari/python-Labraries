{
 "cells": [
  {
   "cell_type": "code",
   "execution_count": 1,
   "id": "c28616b8",
   "metadata": {},
   "outputs": [],
   "source": [
    "import numpy as np\n",
    "import pandas as pd"
   ]
  },
  {
   "cell_type": "code",
   "execution_count": 2,
   "id": "2a81e326",
   "metadata": {},
   "outputs": [],
   "source": [
    "l = [\"sudh\", 1,2,3,4]"
   ]
  },
  {
   "cell_type": "code",
   "execution_count": 3,
   "id": "a1296052",
   "metadata": {},
   "outputs": [
    {
     "data": {
      "text/plain": [
       "list"
      ]
     },
     "execution_count": 3,
     "metadata": {},
     "output_type": "execute_result"
    }
   ],
   "source": [
    "type(l)"
   ]
  },
  {
   "cell_type": "code",
   "execution_count": 4,
   "id": "9c4cb8d9",
   "metadata": {},
   "outputs": [
    {
     "data": {
      "text/plain": [
       "array(['sudh', '1', '2', '3', '4'], dtype='<U11')"
      ]
     },
     "execution_count": 4,
     "metadata": {},
     "output_type": "execute_result"
    }
   ],
   "source": [
    "np.array(l)"
   ]
  },
  {
   "cell_type": "code",
   "execution_count": 5,
   "id": "6979b355",
   "metadata": {},
   "outputs": [
    {
     "data": {
      "text/plain": [
       "numpy.ndarray"
      ]
     },
     "execution_count": 5,
     "metadata": {},
     "output_type": "execute_result"
    }
   ],
   "source": [
    "type(np.array(l))"
   ]
  },
  {
   "cell_type": "code",
   "execution_count": 12,
   "id": "0fafd65a",
   "metadata": {},
   "outputs": [],
   "source": [
    "a1 = np.array([3,2,4,5,6,3.0])"
   ]
  },
  {
   "cell_type": "code",
   "execution_count": 13,
   "id": "2a2c3ff6",
   "metadata": {},
   "outputs": [],
   "source": [
    "a = np.array([[1,2],[3,4]])"
   ]
  },
  {
   "cell_type": "code",
   "execution_count": 14,
   "id": "25da7e21",
   "metadata": {},
   "outputs": [
    {
     "data": {
      "text/plain": [
       "array([[1, 2],\n",
       "       [3, 4]])"
      ]
     },
     "execution_count": 14,
     "metadata": {},
     "output_type": "execute_result"
    }
   ],
   "source": [
    "a"
   ]
  },
  {
   "cell_type": "code",
   "execution_count": 15,
   "id": "29246733",
   "metadata": {},
   "outputs": [
    {
     "data": {
      "text/plain": [
       "4"
      ]
     },
     "execution_count": 15,
     "metadata": {},
     "output_type": "execute_result"
    }
   ],
   "source": [
    "a[1][1]"
   ]
  },
  {
   "cell_type": "code",
   "execution_count": 17,
   "id": "ff80edb2",
   "metadata": {},
   "outputs": [
    {
     "data": {
      "text/plain": [
       "array([3., 2., 4., 5., 6., 3.])"
      ]
     },
     "execution_count": 17,
     "metadata": {},
     "output_type": "execute_result"
    }
   ],
   "source": [
    "a1"
   ]
  },
  {
   "cell_type": "code",
   "execution_count": 18,
   "id": "27b444b1",
   "metadata": {},
   "outputs": [
    {
     "data": {
      "text/plain": [
       "4.0"
      ]
     },
     "execution_count": 18,
     "metadata": {},
     "output_type": "execute_result"
    }
   ],
   "source": [
    "a1[2]"
   ]
  },
  {
   "cell_type": "code",
   "execution_count": 26,
   "id": "e3d8e749",
   "metadata": {},
   "outputs": [],
   "source": [
    "a2 = np.array([1,2,3,4],ndmin=4)"
   ]
  },
  {
   "cell_type": "code",
   "execution_count": 27,
   "id": "54fb3b39",
   "metadata": {},
   "outputs": [
    {
     "data": {
      "text/plain": [
       "array([[[[1, 2, 3, 4]]]])"
      ]
     },
     "execution_count": 27,
     "metadata": {},
     "output_type": "execute_result"
    }
   ],
   "source": [
    "a2"
   ]
  },
  {
   "cell_type": "code",
   "execution_count": 31,
   "id": "e17bd0ce",
   "metadata": {},
   "outputs": [
    {
     "data": {
      "text/plain": [
       "1"
      ]
     },
     "execution_count": 31,
     "metadata": {},
     "output_type": "execute_result"
    }
   ],
   "source": [
    "a2[0][0][0][0]"
   ]
  },
  {
   "cell_type": "code",
   "execution_count": 32,
   "id": "cf88c1be",
   "metadata": {},
   "outputs": [
    {
     "data": {
      "text/plain": [
       "array([1, 2, 3, 4, 5])"
      ]
     },
     "execution_count": 32,
     "metadata": {},
     "output_type": "execute_result"
    }
   ],
   "source": [
    "np.asarray([1,2,3,4,5])"
   ]
  },
  {
   "cell_type": "code",
   "execution_count": 33,
   "id": "18d47ab1",
   "metadata": {},
   "outputs": [
    {
     "data": {
      "text/plain": [
       "array([1, 2, 3, 4, 5])"
      ]
     },
     "execution_count": 33,
     "metadata": {},
     "output_type": "execute_result"
    }
   ],
   "source": [
    "np.asanyarray([1,2,3,4,5])"
   ]
  },
  {
   "cell_type": "code",
   "execution_count": 35,
   "id": "40865f98",
   "metadata": {},
   "outputs": [
    {
     "data": {
      "text/plain": [
       "matrix([[1, 2, 3, 4, 5]])"
      ]
     },
     "execution_count": 35,
     "metadata": {},
     "output_type": "execute_result"
    }
   ],
   "source": [
    "np.mat([1,2,3,4,5]) # minimun 2 dimension"
   ]
  },
  {
   "cell_type": "code",
   "execution_count": 36,
   "id": "fdc301b0",
   "metadata": {},
   "outputs": [],
   "source": [
    "a = [1,2,3,4,5]"
   ]
  },
  {
   "cell_type": "code",
   "execution_count": 37,
   "id": "d03cc9cc",
   "metadata": {},
   "outputs": [
    {
     "data": {
      "text/plain": [
       "array([1, 2, 3, 4, 5])"
      ]
     },
     "execution_count": 37,
     "metadata": {},
     "output_type": "execute_result"
    }
   ],
   "source": [
    "np.asarray(a)"
   ]
  },
  {
   "cell_type": "code",
   "execution_count": 38,
   "id": "11be3287",
   "metadata": {},
   "outputs": [
    {
     "data": {
      "text/plain": [
       "matrix([[1, 2, 3, 4, 5]])"
      ]
     },
     "execution_count": 38,
     "metadata": {},
     "output_type": "execute_result"
    }
   ],
   "source": [
    "np.mat(a)"
   ]
  },
  {
   "cell_type": "code",
   "execution_count": 39,
   "id": "3cf82671",
   "metadata": {},
   "outputs": [
    {
     "data": {
      "text/plain": [
       "array([1, 2, 3, 4, 5])"
      ]
     },
     "execution_count": 39,
     "metadata": {},
     "output_type": "execute_result"
    }
   ],
   "source": [
    "np.asanyarray(a)"
   ]
  },
  {
   "cell_type": "code",
   "execution_count": 40,
   "id": "9201c58b",
   "metadata": {},
   "outputs": [
    {
     "data": {
      "text/plain": [
       "matrix([[1, 2, 3, 4, 5]])"
      ]
     },
     "execution_count": 40,
     "metadata": {},
     "output_type": "execute_result"
    }
   ],
   "source": [
    "np.asanyarray(np.mat(a))"
   ]
  },
  {
   "cell_type": "code",
   "execution_count": 41,
   "id": "3c737039",
   "metadata": {},
   "outputs": [
    {
     "data": {
      "text/plain": [
       "array([[ True, False, False],\n",
       "       [False,  True, False],\n",
       "       [False, False,  True]])"
      ]
     },
     "execution_count": 41,
     "metadata": {},
     "output_type": "execute_result"
    }
   ],
   "source": [
    "np.fromfunction(lambda i, j : i==j, (3,3))"
   ]
  },
  {
   "cell_type": "code",
   "execution_count": 43,
   "id": "3901c1f6",
   "metadata": {},
   "outputs": [
    {
     "data": {
      "text/plain": [
       "array([[0, 0, 0, 0],\n",
       "       [0, 1, 2, 3],\n",
       "       [0, 2, 4, 6],\n",
       "       [0, 3, 6, 9]])"
      ]
     },
     "execution_count": 43,
     "metadata": {},
     "output_type": "execute_result"
    }
   ],
   "source": [
    "np.fromfunction(lambda i, j : i*j, (4,4), dtype=int)"
   ]
  },
  {
   "cell_type": "code",
   "execution_count": 44,
   "id": "14aa7bb0",
   "metadata": {},
   "outputs": [
    {
     "data": {
      "text/plain": [
       "matrix([[0, 0, 0, 0],\n",
       "        [0, 1, 2, 3],\n",
       "        [0, 2, 4, 6],\n",
       "        [0, 3, 6, 9]])"
      ]
     },
     "execution_count": 44,
     "metadata": {},
     "output_type": "execute_result"
    }
   ],
   "source": [
    "np.mat(np.fromfunction(lambda i, j : i*j, (4,4), dtype=int))"
   ]
  },
  {
   "cell_type": "code",
   "execution_count": 48,
   "id": "bf7da505",
   "metadata": {},
   "outputs": [
    {
     "data": {
      "text/plain": [
       "array([[[0, 0],\n",
       "        [0, 0],\n",
       "        [0, 0]],\n",
       "\n",
       "       [[0, 0],\n",
       "        [0, 1],\n",
       "        [0, 2]],\n",
       "\n",
       "       [[0, 0],\n",
       "        [0, 2],\n",
       "        [0, 4]],\n",
       "\n",
       "       [[0, 0],\n",
       "        [0, 3],\n",
       "        [0, 6]]])"
      ]
     },
     "execution_count": 48,
     "metadata": {},
     "output_type": "execute_result"
    }
   ],
   "source": [
    "np.fromfunction(lambda i, j,z : i*j*z, (4,3,2), dtype=int)"
   ]
  },
  {
   "cell_type": "code",
   "execution_count": 50,
   "id": "6ff292f4",
   "metadata": {},
   "outputs": [],
   "source": [
    "a = np.fromfunction(lambda i, j,z,p : i*j*z*p, (4,3,2,2), dtype=int)"
   ]
  },
  {
   "cell_type": "code",
   "execution_count": null,
   "id": "b3f9696c",
   "metadata": {},
   "outputs": [],
   "source": [
    "Job Location- Work From Home\n",
    "Interested candidates can share their resumes at Whatsapp Divya Ma'am: +918928482266\n",
    "\n",
    "For more details Please Contact on +918928482266"
   ]
  },
  {
   "cell_type": "code",
   "execution_count": 51,
   "id": "c2914ee0",
   "metadata": {},
   "outputs": [
    {
     "data": {
      "text/plain": [
       "array([[[[0, 0],\n",
       "         [0, 0]],\n",
       "\n",
       "        [[0, 0],\n",
       "         [0, 0]],\n",
       "\n",
       "        [[0, 0],\n",
       "         [0, 0]]],\n",
       "\n",
       "\n",
       "       [[[0, 0],\n",
       "         [0, 0]],\n",
       "\n",
       "        [[0, 0],\n",
       "         [0, 1]],\n",
       "\n",
       "        [[0, 0],\n",
       "         [0, 2]]],\n",
       "\n",
       "\n",
       "       [[[0, 0],\n",
       "         [0, 0]],\n",
       "\n",
       "        [[0, 0],\n",
       "         [0, 2]],\n",
       "\n",
       "        [[0, 0],\n",
       "         [0, 4]]],\n",
       "\n",
       "\n",
       "       [[[0, 0],\n",
       "         [0, 0]],\n",
       "\n",
       "        [[0, 0],\n",
       "         [0, 3]],\n",
       "\n",
       "        [[0, 0],\n",
       "         [0, 6]]]])"
      ]
     },
     "execution_count": 51,
     "metadata": {},
     "output_type": "execute_result"
    }
   ],
   "source": [
    "a"
   ]
  },
  {
   "cell_type": "code",
   "execution_count": 56,
   "id": "07009e50",
   "metadata": {},
   "outputs": [],
   "source": [
    "a = np.fromfunction(lambda i, j,z: i*j*z, (4,3,2), dtype=int)"
   ]
  },
  {
   "cell_type": "code",
   "execution_count": 57,
   "id": "95270527",
   "metadata": {},
   "outputs": [
    {
     "data": {
      "text/plain": [
       "(4, 3, 2)"
      ]
     },
     "execution_count": 57,
     "metadata": {},
     "output_type": "execute_result"
    }
   ],
   "source": [
    "a.shape"
   ]
  },
  {
   "cell_type": "code",
   "execution_count": 58,
   "id": "7b9ab77f",
   "metadata": {},
   "outputs": [
    {
     "data": {
      "text/plain": [
       "3"
      ]
     },
     "execution_count": 58,
     "metadata": {},
     "output_type": "execute_result"
    }
   ],
   "source": [
    "a.ndim"
   ]
  },
  {
   "cell_type": "code",
   "execution_count": 59,
   "id": "6d8f56ff",
   "metadata": {},
   "outputs": [
    {
     "data": {
      "text/plain": [
       "24"
      ]
     },
     "execution_count": 59,
     "metadata": {},
     "output_type": "execute_result"
    }
   ],
   "source": [
    "a.size"
   ]
  },
  {
   "cell_type": "code",
   "execution_count": 60,
   "id": "f7f36383",
   "metadata": {},
   "outputs": [
    {
     "data": {
      "text/plain": [
       "dtype('int32')"
      ]
     },
     "execution_count": 60,
     "metadata": {},
     "output_type": "execute_result"
    }
   ],
   "source": [
    "a.dtype"
   ]
  },
  {
   "cell_type": "code",
   "execution_count": 61,
   "id": "24e66e42",
   "metadata": {},
   "outputs": [
    {
     "data": {
      "text/plain": [
       "array([[[0, 0],\n",
       "        [0, 0],\n",
       "        [0, 0]],\n",
       "\n",
       "       [[0, 0],\n",
       "        [0, 1],\n",
       "        [0, 2]],\n",
       "\n",
       "       [[0, 0],\n",
       "        [0, 2],\n",
       "        [0, 4]],\n",
       "\n",
       "       [[0, 0],\n",
       "        [0, 3],\n",
       "        [0, 6]]])"
      ]
     },
     "execution_count": 61,
     "metadata": {},
     "output_type": "execute_result"
    }
   ],
   "source": [
    "a"
   ]
  },
  {
   "cell_type": "code",
   "execution_count": 64,
   "id": "3f89fe18",
   "metadata": {},
   "outputs": [
    {
     "ename": "ValueError",
     "evalue": "Must pass 2-d input. shape=(4, 3, 2)",
     "output_type": "error",
     "traceback": [
      "\u001b[1;31m---------------------------------------------------------------------------\u001b[0m",
      "\u001b[1;31mValueError\u001b[0m                                Traceback (most recent call last)",
      "\u001b[1;32m~\\AppData\\Local\\Temp/ipykernel_1648/516763050.py\u001b[0m in \u001b[0;36m<module>\u001b[1;34m\u001b[0m\n\u001b[1;32m----> 1\u001b[1;33m \u001b[0mpd\u001b[0m\u001b[1;33m.\u001b[0m\u001b[0mDataFrame\u001b[0m\u001b[1;33m(\u001b[0m\u001b[0ma\u001b[0m\u001b[1;33m)\u001b[0m\u001b[1;33m\u001b[0m\u001b[1;33m\u001b[0m\u001b[0m\n\u001b[0m",
      "\u001b[1;32m~\\anaconda3\\lib\\site-packages\\pandas\\core\\frame.py\u001b[0m in \u001b[0;36m__init__\u001b[1;34m(self, data, index, columns, dtype, copy)\u001b[0m\n\u001b[0;32m    692\u001b[0m                 )\n\u001b[0;32m    693\u001b[0m             \u001b[1;32melse\u001b[0m\u001b[1;33m:\u001b[0m\u001b[1;33m\u001b[0m\u001b[1;33m\u001b[0m\u001b[0m\n\u001b[1;32m--> 694\u001b[1;33m                 mgr = ndarray_to_mgr(\n\u001b[0m\u001b[0;32m    695\u001b[0m                     \u001b[0mdata\u001b[0m\u001b[1;33m,\u001b[0m\u001b[1;33m\u001b[0m\u001b[1;33m\u001b[0m\u001b[0m\n\u001b[0;32m    696\u001b[0m                     \u001b[0mindex\u001b[0m\u001b[1;33m,\u001b[0m\u001b[1;33m\u001b[0m\u001b[1;33m\u001b[0m\u001b[0m\n",
      "\u001b[1;32m~\\anaconda3\\lib\\site-packages\\pandas\\core\\internals\\construction.py\u001b[0m in \u001b[0;36mndarray_to_mgr\u001b[1;34m(values, index, columns, dtype, copy, typ)\u001b[0m\n\u001b[0;32m    329\u001b[0m         \u001b[1;31m# by definition an array here\u001b[0m\u001b[1;33m\u001b[0m\u001b[1;33m\u001b[0m\u001b[1;33m\u001b[0m\u001b[0m\n\u001b[0;32m    330\u001b[0m         \u001b[1;31m# the dtypes will be coerced to a single dtype\u001b[0m\u001b[1;33m\u001b[0m\u001b[1;33m\u001b[0m\u001b[1;33m\u001b[0m\u001b[0m\n\u001b[1;32m--> 331\u001b[1;33m         \u001b[0mvalues\u001b[0m \u001b[1;33m=\u001b[0m \u001b[0m_prep_ndarray\u001b[0m\u001b[1;33m(\u001b[0m\u001b[0mvalues\u001b[0m\u001b[1;33m,\u001b[0m \u001b[0mcopy\u001b[0m\u001b[1;33m=\u001b[0m\u001b[0mcopy_on_sanitize\u001b[0m\u001b[1;33m)\u001b[0m\u001b[1;33m\u001b[0m\u001b[1;33m\u001b[0m\u001b[0m\n\u001b[0m\u001b[0;32m    332\u001b[0m \u001b[1;33m\u001b[0m\u001b[0m\n\u001b[0;32m    333\u001b[0m     \u001b[1;32mif\u001b[0m \u001b[0mdtype\u001b[0m \u001b[1;32mis\u001b[0m \u001b[1;32mnot\u001b[0m \u001b[1;32mNone\u001b[0m \u001b[1;32mand\u001b[0m \u001b[1;32mnot\u001b[0m \u001b[0mis_dtype_equal\u001b[0m\u001b[1;33m(\u001b[0m\u001b[0mvalues\u001b[0m\u001b[1;33m.\u001b[0m\u001b[0mdtype\u001b[0m\u001b[1;33m,\u001b[0m \u001b[0mdtype\u001b[0m\u001b[1;33m)\u001b[0m\u001b[1;33m:\u001b[0m\u001b[1;33m\u001b[0m\u001b[1;33m\u001b[0m\u001b[0m\n",
      "\u001b[1;32m~\\anaconda3\\lib\\site-packages\\pandas\\core\\internals\\construction.py\u001b[0m in \u001b[0;36m_prep_ndarray\u001b[1;34m(values, copy)\u001b[0m\n\u001b[0;32m    589\u001b[0m         \u001b[0mvalues\u001b[0m \u001b[1;33m=\u001b[0m \u001b[0mvalues\u001b[0m\u001b[1;33m.\u001b[0m\u001b[0mreshape\u001b[0m\u001b[1;33m(\u001b[0m\u001b[1;33m(\u001b[0m\u001b[0mvalues\u001b[0m\u001b[1;33m.\u001b[0m\u001b[0mshape\u001b[0m\u001b[1;33m[\u001b[0m\u001b[1;36m0\u001b[0m\u001b[1;33m]\u001b[0m\u001b[1;33m,\u001b[0m \u001b[1;36m1\u001b[0m\u001b[1;33m)\u001b[0m\u001b[1;33m)\u001b[0m\u001b[1;33m\u001b[0m\u001b[1;33m\u001b[0m\u001b[0m\n\u001b[0;32m    590\u001b[0m     \u001b[1;32melif\u001b[0m \u001b[0mvalues\u001b[0m\u001b[1;33m.\u001b[0m\u001b[0mndim\u001b[0m \u001b[1;33m!=\u001b[0m \u001b[1;36m2\u001b[0m\u001b[1;33m:\u001b[0m\u001b[1;33m\u001b[0m\u001b[1;33m\u001b[0m\u001b[0m\n\u001b[1;32m--> 591\u001b[1;33m         \u001b[1;32mraise\u001b[0m \u001b[0mValueError\u001b[0m\u001b[1;33m(\u001b[0m\u001b[1;34mf\"Must pass 2-d input. shape={values.shape}\"\u001b[0m\u001b[1;33m)\u001b[0m\u001b[1;33m\u001b[0m\u001b[1;33m\u001b[0m\u001b[0m\n\u001b[0m\u001b[0;32m    592\u001b[0m \u001b[1;33m\u001b[0m\u001b[0m\n\u001b[0;32m    593\u001b[0m     \u001b[1;32mreturn\u001b[0m \u001b[0mvalues\u001b[0m\u001b[1;33m\u001b[0m\u001b[1;33m\u001b[0m\u001b[0m\n",
      "\u001b[1;31mValueError\u001b[0m: Must pass 2-d input. shape=(4, 3, 2)"
     ]
    }
   ],
   "source": [
    "pd.DataFrame(a)"
   ]
  },
  {
   "cell_type": "code",
   "execution_count": 69,
   "id": "c825337d",
   "metadata": {},
   "outputs": [],
   "source": [
    "a = np.fromfunction(lambda i, j: i*j, (100,100), dtype=int)"
   ]
  },
  {
   "cell_type": "code",
   "execution_count": 70,
   "id": "4c1285c2",
   "metadata": {},
   "outputs": [
    {
     "data": {
      "text/html": [
       "<div>\n",
       "<style scoped>\n",
       "    .dataframe tbody tr th:only-of-type {\n",
       "        vertical-align: middle;\n",
       "    }\n",
       "\n",
       "    .dataframe tbody tr th {\n",
       "        vertical-align: top;\n",
       "    }\n",
       "\n",
       "    .dataframe thead th {\n",
       "        text-align: right;\n",
       "    }\n",
       "</style>\n",
       "<table border=\"1\" class=\"dataframe\">\n",
       "  <thead>\n",
       "    <tr style=\"text-align: right;\">\n",
       "      <th></th>\n",
       "      <th>0</th>\n",
       "      <th>1</th>\n",
       "      <th>2</th>\n",
       "      <th>3</th>\n",
       "      <th>4</th>\n",
       "      <th>5</th>\n",
       "      <th>6</th>\n",
       "      <th>7</th>\n",
       "      <th>8</th>\n",
       "      <th>9</th>\n",
       "      <th>...</th>\n",
       "      <th>90</th>\n",
       "      <th>91</th>\n",
       "      <th>92</th>\n",
       "      <th>93</th>\n",
       "      <th>94</th>\n",
       "      <th>95</th>\n",
       "      <th>96</th>\n",
       "      <th>97</th>\n",
       "      <th>98</th>\n",
       "      <th>99</th>\n",
       "    </tr>\n",
       "  </thead>\n",
       "  <tbody>\n",
       "    <tr>\n",
       "      <th>0</th>\n",
       "      <td>0</td>\n",
       "      <td>0</td>\n",
       "      <td>0</td>\n",
       "      <td>0</td>\n",
       "      <td>0</td>\n",
       "      <td>0</td>\n",
       "      <td>0</td>\n",
       "      <td>0</td>\n",
       "      <td>0</td>\n",
       "      <td>0</td>\n",
       "      <td>...</td>\n",
       "      <td>0</td>\n",
       "      <td>0</td>\n",
       "      <td>0</td>\n",
       "      <td>0</td>\n",
       "      <td>0</td>\n",
       "      <td>0</td>\n",
       "      <td>0</td>\n",
       "      <td>0</td>\n",
       "      <td>0</td>\n",
       "      <td>0</td>\n",
       "    </tr>\n",
       "    <tr>\n",
       "      <th>1</th>\n",
       "      <td>0</td>\n",
       "      <td>1</td>\n",
       "      <td>2</td>\n",
       "      <td>3</td>\n",
       "      <td>4</td>\n",
       "      <td>5</td>\n",
       "      <td>6</td>\n",
       "      <td>7</td>\n",
       "      <td>8</td>\n",
       "      <td>9</td>\n",
       "      <td>...</td>\n",
       "      <td>90</td>\n",
       "      <td>91</td>\n",
       "      <td>92</td>\n",
       "      <td>93</td>\n",
       "      <td>94</td>\n",
       "      <td>95</td>\n",
       "      <td>96</td>\n",
       "      <td>97</td>\n",
       "      <td>98</td>\n",
       "      <td>99</td>\n",
       "    </tr>\n",
       "    <tr>\n",
       "      <th>2</th>\n",
       "      <td>0</td>\n",
       "      <td>2</td>\n",
       "      <td>4</td>\n",
       "      <td>6</td>\n",
       "      <td>8</td>\n",
       "      <td>10</td>\n",
       "      <td>12</td>\n",
       "      <td>14</td>\n",
       "      <td>16</td>\n",
       "      <td>18</td>\n",
       "      <td>...</td>\n",
       "      <td>180</td>\n",
       "      <td>182</td>\n",
       "      <td>184</td>\n",
       "      <td>186</td>\n",
       "      <td>188</td>\n",
       "      <td>190</td>\n",
       "      <td>192</td>\n",
       "      <td>194</td>\n",
       "      <td>196</td>\n",
       "      <td>198</td>\n",
       "    </tr>\n",
       "    <tr>\n",
       "      <th>3</th>\n",
       "      <td>0</td>\n",
       "      <td>3</td>\n",
       "      <td>6</td>\n",
       "      <td>9</td>\n",
       "      <td>12</td>\n",
       "      <td>15</td>\n",
       "      <td>18</td>\n",
       "      <td>21</td>\n",
       "      <td>24</td>\n",
       "      <td>27</td>\n",
       "      <td>...</td>\n",
       "      <td>270</td>\n",
       "      <td>273</td>\n",
       "      <td>276</td>\n",
       "      <td>279</td>\n",
       "      <td>282</td>\n",
       "      <td>285</td>\n",
       "      <td>288</td>\n",
       "      <td>291</td>\n",
       "      <td>294</td>\n",
       "      <td>297</td>\n",
       "    </tr>\n",
       "    <tr>\n",
       "      <th>4</th>\n",
       "      <td>0</td>\n",
       "      <td>4</td>\n",
       "      <td>8</td>\n",
       "      <td>12</td>\n",
       "      <td>16</td>\n",
       "      <td>20</td>\n",
       "      <td>24</td>\n",
       "      <td>28</td>\n",
       "      <td>32</td>\n",
       "      <td>36</td>\n",
       "      <td>...</td>\n",
       "      <td>360</td>\n",
       "      <td>364</td>\n",
       "      <td>368</td>\n",
       "      <td>372</td>\n",
       "      <td>376</td>\n",
       "      <td>380</td>\n",
       "      <td>384</td>\n",
       "      <td>388</td>\n",
       "      <td>392</td>\n",
       "      <td>396</td>\n",
       "    </tr>\n",
       "    <tr>\n",
       "      <th>...</th>\n",
       "      <td>...</td>\n",
       "      <td>...</td>\n",
       "      <td>...</td>\n",
       "      <td>...</td>\n",
       "      <td>...</td>\n",
       "      <td>...</td>\n",
       "      <td>...</td>\n",
       "      <td>...</td>\n",
       "      <td>...</td>\n",
       "      <td>...</td>\n",
       "      <td>...</td>\n",
       "      <td>...</td>\n",
       "      <td>...</td>\n",
       "      <td>...</td>\n",
       "      <td>...</td>\n",
       "      <td>...</td>\n",
       "      <td>...</td>\n",
       "      <td>...</td>\n",
       "      <td>...</td>\n",
       "      <td>...</td>\n",
       "      <td>...</td>\n",
       "    </tr>\n",
       "    <tr>\n",
       "      <th>95</th>\n",
       "      <td>0</td>\n",
       "      <td>95</td>\n",
       "      <td>190</td>\n",
       "      <td>285</td>\n",
       "      <td>380</td>\n",
       "      <td>475</td>\n",
       "      <td>570</td>\n",
       "      <td>665</td>\n",
       "      <td>760</td>\n",
       "      <td>855</td>\n",
       "      <td>...</td>\n",
       "      <td>8550</td>\n",
       "      <td>8645</td>\n",
       "      <td>8740</td>\n",
       "      <td>8835</td>\n",
       "      <td>8930</td>\n",
       "      <td>9025</td>\n",
       "      <td>9120</td>\n",
       "      <td>9215</td>\n",
       "      <td>9310</td>\n",
       "      <td>9405</td>\n",
       "    </tr>\n",
       "    <tr>\n",
       "      <th>96</th>\n",
       "      <td>0</td>\n",
       "      <td>96</td>\n",
       "      <td>192</td>\n",
       "      <td>288</td>\n",
       "      <td>384</td>\n",
       "      <td>480</td>\n",
       "      <td>576</td>\n",
       "      <td>672</td>\n",
       "      <td>768</td>\n",
       "      <td>864</td>\n",
       "      <td>...</td>\n",
       "      <td>8640</td>\n",
       "      <td>8736</td>\n",
       "      <td>8832</td>\n",
       "      <td>8928</td>\n",
       "      <td>9024</td>\n",
       "      <td>9120</td>\n",
       "      <td>9216</td>\n",
       "      <td>9312</td>\n",
       "      <td>9408</td>\n",
       "      <td>9504</td>\n",
       "    </tr>\n",
       "    <tr>\n",
       "      <th>97</th>\n",
       "      <td>0</td>\n",
       "      <td>97</td>\n",
       "      <td>194</td>\n",
       "      <td>291</td>\n",
       "      <td>388</td>\n",
       "      <td>485</td>\n",
       "      <td>582</td>\n",
       "      <td>679</td>\n",
       "      <td>776</td>\n",
       "      <td>873</td>\n",
       "      <td>...</td>\n",
       "      <td>8730</td>\n",
       "      <td>8827</td>\n",
       "      <td>8924</td>\n",
       "      <td>9021</td>\n",
       "      <td>9118</td>\n",
       "      <td>9215</td>\n",
       "      <td>9312</td>\n",
       "      <td>9409</td>\n",
       "      <td>9506</td>\n",
       "      <td>9603</td>\n",
       "    </tr>\n",
       "    <tr>\n",
       "      <th>98</th>\n",
       "      <td>0</td>\n",
       "      <td>98</td>\n",
       "      <td>196</td>\n",
       "      <td>294</td>\n",
       "      <td>392</td>\n",
       "      <td>490</td>\n",
       "      <td>588</td>\n",
       "      <td>686</td>\n",
       "      <td>784</td>\n",
       "      <td>882</td>\n",
       "      <td>...</td>\n",
       "      <td>8820</td>\n",
       "      <td>8918</td>\n",
       "      <td>9016</td>\n",
       "      <td>9114</td>\n",
       "      <td>9212</td>\n",
       "      <td>9310</td>\n",
       "      <td>9408</td>\n",
       "      <td>9506</td>\n",
       "      <td>9604</td>\n",
       "      <td>9702</td>\n",
       "    </tr>\n",
       "    <tr>\n",
       "      <th>99</th>\n",
       "      <td>0</td>\n",
       "      <td>99</td>\n",
       "      <td>198</td>\n",
       "      <td>297</td>\n",
       "      <td>396</td>\n",
       "      <td>495</td>\n",
       "      <td>594</td>\n",
       "      <td>693</td>\n",
       "      <td>792</td>\n",
       "      <td>891</td>\n",
       "      <td>...</td>\n",
       "      <td>8910</td>\n",
       "      <td>9009</td>\n",
       "      <td>9108</td>\n",
       "      <td>9207</td>\n",
       "      <td>9306</td>\n",
       "      <td>9405</td>\n",
       "      <td>9504</td>\n",
       "      <td>9603</td>\n",
       "      <td>9702</td>\n",
       "      <td>9801</td>\n",
       "    </tr>\n",
       "  </tbody>\n",
       "</table>\n",
       "<p>100 rows × 100 columns</p>\n",
       "</div>"
      ],
      "text/plain": [
       "    0   1    2    3    4    5    6    7    8    9   ...    90    91    92  \\\n",
       "0    0   0    0    0    0    0    0    0    0    0  ...     0     0     0   \n",
       "1    0   1    2    3    4    5    6    7    8    9  ...    90    91    92   \n",
       "2    0   2    4    6    8   10   12   14   16   18  ...   180   182   184   \n",
       "3    0   3    6    9   12   15   18   21   24   27  ...   270   273   276   \n",
       "4    0   4    8   12   16   20   24   28   32   36  ...   360   364   368   \n",
       "..  ..  ..  ...  ...  ...  ...  ...  ...  ...  ...  ...   ...   ...   ...   \n",
       "95   0  95  190  285  380  475  570  665  760  855  ...  8550  8645  8740   \n",
       "96   0  96  192  288  384  480  576  672  768  864  ...  8640  8736  8832   \n",
       "97   0  97  194  291  388  485  582  679  776  873  ...  8730  8827  8924   \n",
       "98   0  98  196  294  392  490  588  686  784  882  ...  8820  8918  9016   \n",
       "99   0  99  198  297  396  495  594  693  792  891  ...  8910  9009  9108   \n",
       "\n",
       "      93    94    95    96    97    98    99  \n",
       "0      0     0     0     0     0     0     0  \n",
       "1     93    94    95    96    97    98    99  \n",
       "2    186   188   190   192   194   196   198  \n",
       "3    279   282   285   288   291   294   297  \n",
       "4    372   376   380   384   388   392   396  \n",
       "..   ...   ...   ...   ...   ...   ...   ...  \n",
       "95  8835  8930  9025  9120  9215  9310  9405  \n",
       "96  8928  9024  9120  9216  9312  9408  9504  \n",
       "97  9021  9118  9215  9312  9409  9506  9603  \n",
       "98  9114  9212  9310  9408  9506  9604  9702  \n",
       "99  9207  9306  9405  9504  9603  9702  9801  \n",
       "\n",
       "[100 rows x 100 columns]"
      ]
     },
     "execution_count": 70,
     "metadata": {},
     "output_type": "execute_result"
    }
   ],
   "source": [
    "pd.DataFrame(a)"
   ]
  },
  {
   "cell_type": "code",
   "execution_count": 72,
   "id": "5f9d0a7d",
   "metadata": {},
   "outputs": [
    {
     "data": {
      "text/plain": [
       "array([[6.66851676e-01, 7.26804393e-01, 8.00275517e-01, 5.97491050e-01],\n",
       "       [7.15607521e-01, 7.26393259e-01, 2.44910369e-01, 5.17565515e-01],\n",
       "       [4.23389565e-01, 6.45306549e-01, 9.97669942e-01, 4.24225292e-01],\n",
       "       [1.41037570e-01, 9.83384443e-01, 4.87906617e-01, 5.97622053e-01],\n",
       "       [7.65521739e-01, 7.69217542e-01, 5.13151628e-01, 9.87713052e-01],\n",
       "       [4.74642160e-01, 9.83336890e-01, 3.17010454e-01, 8.11598993e-01],\n",
       "       [8.28704101e-01, 9.99369494e-01, 8.38301362e-01, 9.72794500e-01],\n",
       "       [6.27202751e-01, 8.24167913e-03, 1.93833975e-01, 2.86334769e-01],\n",
       "       [6.76535157e-01, 6.71478062e-01, 9.00856921e-01, 3.27640549e-01],\n",
       "       [9.70402985e-01, 4.45979359e-02, 7.15447845e-01, 3.95034480e-01],\n",
       "       [6.06726990e-01, 4.45564493e-01, 8.03882159e-01, 5.02592378e-01],\n",
       "       [4.26746986e-01, 3.02258419e-01, 6.69346456e-01, 9.45718760e-01],\n",
       "       [8.17772102e-01, 2.93160427e-02, 6.72699153e-01, 2.35834183e-02],\n",
       "       [8.26794232e-01, 7.01552353e-01, 2.83151759e-01, 4.52817033e-01],\n",
       "       [4.39029674e-02, 6.91132119e-02, 7.66436215e-01, 2.79614598e-01],\n",
       "       [6.25799574e-01, 6.62948856e-01, 5.73560363e-01, 1.24085938e-01],\n",
       "       [6.40377883e-01, 5.56147100e-01, 5.70978511e-01, 3.34767089e-01],\n",
       "       [8.42422139e-01, 7.25187866e-01, 6.23821500e-01, 2.83721088e-01],\n",
       "       [9.61208426e-01, 5.44390719e-01, 1.93812130e-02, 7.29488305e-01],\n",
       "       [1.07711283e-01, 3.32110714e-01, 4.14216229e-01, 9.24806534e-01],\n",
       "       [3.66400903e-01, 8.14694169e-01, 6.33432673e-01, 3.89800433e-01],\n",
       "       [6.90398068e-01, 7.96694981e-01, 9.85456187e-01, 4.24490259e-01],\n",
       "       [5.68408387e-01, 5.53348360e-02, 2.03485061e-01, 1.27749978e-01],\n",
       "       [6.43055653e-01, 6.01542193e-02, 2.01939554e-01, 3.31457360e-01],\n",
       "       [2.98118467e-01, 2.09175059e-01, 3.07320849e-01, 8.16642018e-01],\n",
       "       [2.61991204e-01, 1.92350618e-01, 3.35716384e-01, 9.91170120e-01],\n",
       "       [2.60812136e-02, 3.53242424e-01, 5.42072338e-01, 1.70639043e-03],\n",
       "       [7.52078162e-01, 1.69422941e-01, 7.88831599e-01, 6.25941613e-01],\n",
       "       [5.11195213e-01, 8.94118037e-01, 2.14698549e-01, 4.99926816e-01],\n",
       "       [5.42975836e-01, 9.05556600e-01, 8.36905809e-01, 8.58464578e-01],\n",
       "       [6.29380637e-01, 6.44402913e-01, 4.04517974e-01, 8.80812981e-01],\n",
       "       [6.45886501e-01, 2.91961499e-01, 9.41878722e-01, 5.61455173e-01],\n",
       "       [3.97088640e-01, 5.11613358e-01, 8.28382994e-01, 6.65717015e-01],\n",
       "       [3.36032343e-01, 8.46333806e-01, 3.32469214e-01, 7.20178382e-01],\n",
       "       [9.35952861e-01, 6.38530002e-02, 2.98470879e-01, 2.23590608e-01],\n",
       "       [5.23232622e-02, 9.90424806e-02, 9.60125563e-01, 2.55226271e-01],\n",
       "       [4.20886075e-01, 2.97177666e-01, 4.64250451e-01, 1.18857809e-01],\n",
       "       [2.37214852e-01, 9.17365153e-01, 5.70596522e-01, 7.75342666e-01],\n",
       "       [8.48899854e-01, 9.71767205e-01, 5.54973134e-01, 5.48758909e-01],\n",
       "       [9.62818021e-01, 7.15493382e-01, 3.56354368e-01, 8.03108700e-01],\n",
       "       [5.50282318e-01, 2.75829484e-02, 8.56550020e-01, 9.56026861e-01],\n",
       "       [8.53240930e-01, 2.43406908e-01, 9.87868572e-01, 2.72917703e-01],\n",
       "       [7.16926441e-01, 8.03049000e-01, 9.57609100e-01, 4.20466058e-01],\n",
       "       [4.75395824e-01, 5.65938143e-01, 5.25940724e-01, 7.10412124e-01],\n",
       "       [4.44643485e-01, 8.20903502e-01, 8.94858298e-01, 9.75923953e-01],\n",
       "       [7.38497148e-01, 1.81025014e-02, 5.30367602e-01, 6.31720046e-01],\n",
       "       [2.17737373e-01, 3.97572685e-01, 6.75096841e-01, 2.70649781e-01],\n",
       "       [9.85665284e-01, 8.28624499e-01, 7.39582709e-01, 1.59663015e-01],\n",
       "       [4.97905171e-01, 1.79016041e-01, 3.68030970e-01, 7.52824187e-01],\n",
       "       [8.48490425e-01, 6.55895824e-01, 9.09844329e-01, 2.27556565e-01],\n",
       "       [4.31058387e-01, 9.63724258e-02, 4.33038348e-01, 3.53359861e-01],\n",
       "       [7.17811387e-01, 4.48374252e-04, 5.29808506e-01, 5.79247226e-02],\n",
       "       [9.80264110e-01, 9.73538100e-01, 4.11236433e-01, 3.62368081e-01],\n",
       "       [6.81567860e-01, 7.81386117e-01, 1.13324263e-01, 7.01516432e-01],\n",
       "       [9.75687220e-01, 2.45162098e-01, 7.40898241e-01, 2.01497756e-02],\n",
       "       [8.91776880e-01, 3.76411951e-01, 4.19810286e-01, 3.83595134e-01],\n",
       "       [2.04777690e-01, 4.01866037e-01, 7.43513738e-01, 8.90567685e-01],\n",
       "       [7.90867891e-01, 9.08515487e-01, 1.00978717e-01, 9.31025241e-01],\n",
       "       [6.41646494e-01, 1.87387763e-01, 3.09677656e-01, 4.32902738e-01],\n",
       "       [7.86646866e-01, 9.45945199e-01, 2.76305105e-01, 7.14277254e-01],\n",
       "       [5.48600664e-01, 1.71808723e-01, 3.67131219e-01, 8.91012419e-01],\n",
       "       [5.53239877e-01, 4.44003516e-01, 5.44200949e-01, 3.66231630e-01],\n",
       "       [9.74944284e-01, 5.76307226e-01, 9.06325008e-01, 2.83125010e-01],\n",
       "       [2.38648629e-01, 5.56225073e-01, 2.85807337e-01, 2.82591746e-01],\n",
       "       [8.09820104e-01, 2.41351367e-01, 9.50682834e-01, 8.43336631e-01],\n",
       "       [4.49298065e-01, 1.48373806e-01, 5.16819565e-01, 4.18437905e-01],\n",
       "       [2.18767892e-01, 9.97175544e-01, 3.00936943e-01, 9.44387078e-01],\n",
       "       [2.39384862e-01, 2.51260252e-01, 3.13468874e-01, 2.09527632e-01],\n",
       "       [7.48657792e-01, 8.09004190e-01, 6.35281317e-02, 3.11106445e-02],\n",
       "       [5.41307523e-01, 4.64942843e-01, 2.68548676e-01, 2.81039362e-03],\n",
       "       [1.14894709e-01, 1.32240303e-01, 2.45688947e-01, 4.34952388e-01],\n",
       "       [4.56329445e-01, 4.83600027e-01, 7.42194298e-01, 2.43728031e-01],\n",
       "       [2.27153025e-01, 4.21872798e-01, 6.91915656e-01, 6.87698984e-01],\n",
       "       [7.46728176e-01, 1.38474220e-01, 7.91372602e-01, 9.76756585e-01],\n",
       "       [7.89600349e-01, 8.61317021e-01, 1.32842921e-01, 5.56943472e-01],\n",
       "       [5.29990692e-01, 5.13565403e-01, 6.57975531e-01, 6.08108663e-01],\n",
       "       [8.87248447e-01, 3.96363252e-01, 8.59844550e-01, 2.72690254e-01],\n",
       "       [1.93870980e-01, 3.65002981e-01, 7.08272583e-01, 6.20706675e-01],\n",
       "       [2.36351887e-01, 4.03137345e-01, 5.32913394e-01, 9.95655004e-01],\n",
       "       [1.53950752e-01, 4.18008488e-01, 1.66840385e-01, 8.70992218e-01],\n",
       "       [3.85033462e-01, 4.76684252e-01, 2.16556143e-01, 6.33589237e-01],\n",
       "       [9.23428229e-01, 7.99455380e-01, 2.39199221e-01, 6.29130865e-01],\n",
       "       [9.75715760e-01, 3.32730137e-01, 5.69812081e-01, 3.72635102e-01],\n",
       "       [8.39878178e-01, 7.65664087e-01, 6.69469744e-01, 7.91642109e-01],\n",
       "       [3.32360940e-01, 4.14472234e-01, 5.89113085e-01, 2.86510512e-01],\n",
       "       [3.80863488e-02, 4.55088360e-01, 6.30498017e-01, 1.05829848e-01],\n",
       "       [9.33145198e-01, 8.55767239e-02, 9.13274641e-01, 9.29223484e-01],\n",
       "       [1.66705222e-01, 5.36654595e-01, 8.54721967e-01, 4.95237990e-01],\n",
       "       [3.91484131e-01, 7.59777037e-02, 1.07195818e-01, 8.41274765e-01],\n",
       "       [6.17584793e-01, 9.20991231e-01, 1.44357053e-01, 4.20234385e-01],\n",
       "       [1.18885392e-01, 4.40028355e-01, 6.60543903e-01, 4.63561321e-01],\n",
       "       [9.16867959e-01, 3.59331973e-01, 5.42029759e-01, 2.33459379e-01],\n",
       "       [1.80239180e-01, 8.87999632e-02, 8.48834553e-01, 6.51774223e-01],\n",
       "       [5.15742194e-01, 4.28264762e-01, 4.85189577e-01, 3.73972572e-01],\n",
       "       [7.09983372e-01, 2.79790788e-01, 8.82437079e-01, 1.77294963e-01],\n",
       "       [4.23077985e-02, 1.26957578e-01, 5.18209370e-01, 8.63685848e-01],\n",
       "       [4.99579015e-01, 2.26740113e-01, 9.81611866e-01, 8.20448162e-01],\n",
       "       [1.82944353e-01, 4.76589579e-01, 1.79175205e-01, 5.22553091e-01],\n",
       "       [5.95774576e-01, 3.32967160e-01, 2.06131779e-01, 7.93714019e-01],\n",
       "       [9.23464833e-01, 2.59684423e-01, 7.73321353e-01, 4.67427714e-01]])"
      ]
     },
     "execution_count": 72,
     "metadata": {},
     "output_type": "execute_result"
    }
   ],
   "source": [
    "np.random.rand(100,4)"
   ]
  },
  {
   "cell_type": "code",
   "execution_count": 73,
   "id": "167e2d12",
   "metadata": {},
   "outputs": [
    {
     "data": {
      "text/plain": [
       "31"
      ]
     },
     "execution_count": 73,
     "metadata": {},
     "output_type": "execute_result"
    }
   ],
   "source": [
    "np.random.randint(4,50)"
   ]
  },
  {
   "cell_type": "code",
   "execution_count": 75,
   "id": "a6abf6ee",
   "metadata": {},
   "outputs": [
    {
     "data": {
      "text/html": [
       "<div>\n",
       "<style scoped>\n",
       "    .dataframe tbody tr th:only-of-type {\n",
       "        vertical-align: middle;\n",
       "    }\n",
       "\n",
       "    .dataframe tbody tr th {\n",
       "        vertical-align: top;\n",
       "    }\n",
       "\n",
       "    .dataframe thead th {\n",
       "        text-align: right;\n",
       "    }\n",
       "</style>\n",
       "<table border=\"1\" class=\"dataframe\">\n",
       "  <thead>\n",
       "    <tr style=\"text-align: right;\">\n",
       "      <th></th>\n",
       "      <th>0</th>\n",
       "      <th>1</th>\n",
       "      <th>2</th>\n",
       "      <th>3</th>\n",
       "      <th>4</th>\n",
       "    </tr>\n",
       "  </thead>\n",
       "  <tbody>\n",
       "    <tr>\n",
       "      <th>0</th>\n",
       "      <td>0.112427</td>\n",
       "      <td>-0.114261</td>\n",
       "      <td>-1.484040</td>\n",
       "      <td>-0.498075</td>\n",
       "      <td>-1.477931</td>\n",
       "    </tr>\n",
       "    <tr>\n",
       "      <th>1</th>\n",
       "      <td>-0.937763</td>\n",
       "      <td>-1.156337</td>\n",
       "      <td>-0.428225</td>\n",
       "      <td>-0.580314</td>\n",
       "      <td>-0.215414</td>\n",
       "    </tr>\n",
       "    <tr>\n",
       "      <th>2</th>\n",
       "      <td>-0.015074</td>\n",
       "      <td>0.057178</td>\n",
       "      <td>1.048526</td>\n",
       "      <td>0.049542</td>\n",
       "      <td>0.437978</td>\n",
       "    </tr>\n",
       "    <tr>\n",
       "      <th>3</th>\n",
       "      <td>2.329876</td>\n",
       "      <td>1.850612</td>\n",
       "      <td>-0.873721</td>\n",
       "      <td>0.498196</td>\n",
       "      <td>-0.069431</td>\n",
       "    </tr>\n",
       "  </tbody>\n",
       "</table>\n",
       "</div>"
      ],
      "text/plain": [
       "          0         1         2         3         4\n",
       "0  0.112427 -0.114261 -1.484040 -0.498075 -1.477931\n",
       "1 -0.937763 -1.156337 -0.428225 -0.580314 -0.215414\n",
       "2 -0.015074  0.057178  1.048526  0.049542  0.437978\n",
       "3  2.329876  1.850612 -0.873721  0.498196 -0.069431"
      ]
     },
     "execution_count": 75,
     "metadata": {},
     "output_type": "execute_result"
    }
   ],
   "source": [
    "pd.DataFrame(np.random.randn(4,5))"
   ]
  },
  {
   "cell_type": "code",
   "execution_count": 80,
   "id": "aaa680dc",
   "metadata": {},
   "outputs": [
    {
     "data": {
      "text/plain": [
       "24"
      ]
     },
     "execution_count": 80,
     "metadata": {},
     "output_type": "execute_result"
    }
   ],
   "source": [
    "a = np.fromfunction(lambda i, j,z: i*j*z, (4,3,2), dtype=int)\n",
    "a.size"
   ]
  },
  {
   "cell_type": "code",
   "execution_count": 85,
   "id": "1999e22f",
   "metadata": {},
   "outputs": [
    {
     "data": {
      "text/plain": [
       "array([[[[[[0]],\n",
       "\n",
       "          [[0]],\n",
       "\n",
       "          [[0]]]],\n",
       "\n",
       "\n",
       "\n",
       "        [[[[0]],\n",
       "\n",
       "          [[0]],\n",
       "\n",
       "          [[0]]]]],\n",
       "\n",
       "\n",
       "\n",
       "\n",
       "       [[[[[0]],\n",
       "\n",
       "          [[0]],\n",
       "\n",
       "          [[0]]]],\n",
       "\n",
       "\n",
       "\n",
       "        [[[[1]],\n",
       "\n",
       "          [[0]],\n",
       "\n",
       "          [[2]]]]],\n",
       "\n",
       "\n",
       "\n",
       "\n",
       "       [[[[[0]],\n",
       "\n",
       "          [[0]],\n",
       "\n",
       "          [[0]]]],\n",
       "\n",
       "\n",
       "\n",
       "        [[[[2]],\n",
       "\n",
       "          [[0]],\n",
       "\n",
       "          [[4]]]]],\n",
       "\n",
       "\n",
       "\n",
       "\n",
       "       [[[[[0]],\n",
       "\n",
       "          [[0]],\n",
       "\n",
       "          [[0]]]],\n",
       "\n",
       "\n",
       "\n",
       "        [[[[3]],\n",
       "\n",
       "          [[0]],\n",
       "\n",
       "          [[6]]]]]])"
      ]
     },
     "execution_count": 85,
     "metadata": {},
     "output_type": "execute_result"
    }
   ],
   "source": [
    "a.reshape(4,2,1,3,1,1)"
   ]
  },
  {
   "cell_type": "code",
   "execution_count": 86,
   "id": "b3846a6d",
   "metadata": {},
   "outputs": [
    {
     "data": {
      "text/plain": [
       "array([[[0, 0],\n",
       "        [0, 0],\n",
       "        [0, 0]],\n",
       "\n",
       "       [[0, 0],\n",
       "        [0, 1],\n",
       "        [0, 2]],\n",
       "\n",
       "       [[0, 0],\n",
       "        [0, 2],\n",
       "        [0, 4]],\n",
       "\n",
       "       [[0, 0],\n",
       "        [0, 3],\n",
       "        [0, 6]]])"
      ]
     },
     "execution_count": 86,
     "metadata": {},
     "output_type": "execute_result"
    }
   ],
   "source": [
    "a.reshape(4,3,2)"
   ]
  },
  {
   "cell_type": "code",
   "execution_count": 88,
   "id": "d701ea96",
   "metadata": {},
   "outputs": [
    {
     "data": {
      "text/plain": [
       "array([[0, 0, 0, 0, 0, 0],\n",
       "       [0, 0, 0, 1, 0, 2],\n",
       "       [0, 0, 0, 2, 0, 4],\n",
       "       [0, 0, 0, 3, 0, 6]])"
      ]
     },
     "execution_count": 88,
     "metadata": {},
     "output_type": "execute_result"
    }
   ],
   "source": [
    " a.reshape(4,-1) # here -1 is the remaing fraction of a took by function"
   ]
  },
  {
   "cell_type": "code",
   "execution_count": 89,
   "id": "46bd1267",
   "metadata": {},
   "outputs": [
    {
     "data": {
      "text/plain": [
       "array([[0, 0, 0, 0, 0, 0, 0, 0, 0, 1, 0, 2],\n",
       "       [0, 0, 0, 2, 0, 4, 0, 0, 0, 3, 0, 6]])"
      ]
     },
     "execution_count": 89,
     "metadata": {},
     "output_type": "execute_result"
    }
   ],
   "source": [
    "a.reshape(2,-1)"
   ]
  },
  {
   "cell_type": "code",
   "execution_count": 91,
   "id": "3b28d6be",
   "metadata": {},
   "outputs": [
    {
     "data": {
      "text/plain": [
       "array([[0, 0, 0, 0, 0, 0, 0, 0, 0, 1, 0, 2],\n",
       "       [0, 0, 0, 2, 0, 4, 0, 0, 0, 3, 0, 6]])"
      ]
     },
     "execution_count": 91,
     "metadata": {},
     "output_type": "execute_result"
    }
   ],
   "source": [
    "a.reshape(2,-12345) # any negative number will work "
   ]
  },
  {
   "cell_type": "code",
   "execution_count": 92,
   "id": "d8c3a624",
   "metadata": {},
   "outputs": [
    {
     "data": {
      "text/plain": [
       "array([[[0, 0, 0],\n",
       "        [0, 0, 0],\n",
       "        [0, 0, 0],\n",
       "        [1, 0, 2]],\n",
       "\n",
       "       [[0, 0, 0],\n",
       "        [2, 0, 4],\n",
       "        [0, 0, 0],\n",
       "        [3, 0, 6]]])"
      ]
     },
     "execution_count": 92,
     "metadata": {},
     "output_type": "execute_result"
    }
   ],
   "source": [
    "a.reshape(2,4,-125)"
   ]
  },
  {
   "cell_type": "code",
   "execution_count": 84,
   "id": "a26e145b",
   "metadata": {},
   "outputs": [
    {
     "data": {
      "text/html": [
       "<div>\n",
       "<style scoped>\n",
       "    .dataframe tbody tr th:only-of-type {\n",
       "        vertical-align: middle;\n",
       "    }\n",
       "\n",
       "    .dataframe tbody tr th {\n",
       "        vertical-align: top;\n",
       "    }\n",
       "\n",
       "    .dataframe thead th {\n",
       "        text-align: right;\n",
       "    }\n",
       "</style>\n",
       "<table border=\"1\" class=\"dataframe\">\n",
       "  <thead>\n",
       "    <tr style=\"text-align: right;\">\n",
       "      <th></th>\n",
       "      <th>0</th>\n",
       "      <th>1</th>\n",
       "      <th>2</th>\n",
       "      <th>3</th>\n",
       "    </tr>\n",
       "  </thead>\n",
       "  <tbody>\n",
       "    <tr>\n",
       "      <th>0</th>\n",
       "      <td>0</td>\n",
       "      <td>0</td>\n",
       "      <td>0</td>\n",
       "      <td>0</td>\n",
       "    </tr>\n",
       "    <tr>\n",
       "      <th>1</th>\n",
       "      <td>0</td>\n",
       "      <td>0</td>\n",
       "      <td>0</td>\n",
       "      <td>0</td>\n",
       "    </tr>\n",
       "    <tr>\n",
       "      <th>2</th>\n",
       "      <td>0</td>\n",
       "      <td>1</td>\n",
       "      <td>0</td>\n",
       "      <td>2</td>\n",
       "    </tr>\n",
       "    <tr>\n",
       "      <th>3</th>\n",
       "      <td>0</td>\n",
       "      <td>0</td>\n",
       "      <td>0</td>\n",
       "      <td>2</td>\n",
       "    </tr>\n",
       "    <tr>\n",
       "      <th>4</th>\n",
       "      <td>0</td>\n",
       "      <td>4</td>\n",
       "      <td>0</td>\n",
       "      <td>0</td>\n",
       "    </tr>\n",
       "    <tr>\n",
       "      <th>5</th>\n",
       "      <td>0</td>\n",
       "      <td>3</td>\n",
       "      <td>0</td>\n",
       "      <td>6</td>\n",
       "    </tr>\n",
       "  </tbody>\n",
       "</table>\n",
       "</div>"
      ],
      "text/plain": [
       "   0  1  2  3\n",
       "0  0  0  0  0\n",
       "1  0  0  0  0\n",
       "2  0  1  0  2\n",
       "3  0  0  0  2\n",
       "4  0  4  0  0\n",
       "5  0  3  0  6"
      ]
     },
     "execution_count": 84,
     "metadata": {},
     "output_type": "execute_result"
    }
   ],
   "source": [
    "pd.DataFrame(a.reshape(6,4)) # must be the fraction of size of a"
   ]
  },
  {
   "cell_type": "code",
   "execution_count": 101,
   "id": "d9dc8e82",
   "metadata": {},
   "outputs": [
    {
     "data": {
      "text/plain": [
       "[4, 6, 8]"
      ]
     },
     "execution_count": 101,
     "metadata": {},
     "output_type": "execute_result"
    }
   ],
   "source": [
    "list(range(4,10,2))"
   ]
  },
  {
   "cell_type": "code",
   "execution_count": 102,
   "id": "564e9eee",
   "metadata": {},
   "outputs": [],
   "source": [
    "a1 = list(np.arange(4,10.5,0.2))"
   ]
  },
  {
   "cell_type": "code",
   "execution_count": 103,
   "id": "9fa4dc18",
   "metadata": {},
   "outputs": [
    {
     "data": {
      "text/plain": [
       "[4.0,\n",
       " 4.2,\n",
       " 4.4,\n",
       " 4.6000000000000005,\n",
       " 4.800000000000001,\n",
       " 5.000000000000001,\n",
       " 5.200000000000001,\n",
       " 5.400000000000001,\n",
       " 5.600000000000001,\n",
       " 5.800000000000002,\n",
       " 6.000000000000002,\n",
       " 6.200000000000002,\n",
       " 6.400000000000002,\n",
       " 6.600000000000002,\n",
       " 6.8000000000000025,\n",
       " 7.000000000000003,\n",
       " 7.200000000000003,\n",
       " 7.400000000000003,\n",
       " 7.600000000000003,\n",
       " 7.800000000000003,\n",
       " 8.000000000000004,\n",
       " 8.200000000000003,\n",
       " 8.400000000000004,\n",
       " 8.600000000000005,\n",
       " 8.800000000000004,\n",
       " 9.000000000000004,\n",
       " 9.200000000000005,\n",
       " 9.400000000000006,\n",
       " 9.600000000000005,\n",
       " 9.800000000000004,\n",
       " 10.000000000000005,\n",
       " 10.200000000000006,\n",
       " 10.400000000000006]"
      ]
     },
     "execution_count": 103,
     "metadata": {},
     "output_type": "execute_result"
    }
   ],
   "source": [
    "a1"
   ]
  },
  {
   "cell_type": "code",
   "execution_count": 104,
   "id": "cb21050c",
   "metadata": {},
   "outputs": [
    {
     "data": {
      "text/plain": [
       "[4.2, 4.4, 4.6000000000000005]"
      ]
     },
     "execution_count": 104,
     "metadata": {},
     "output_type": "execute_result"
    }
   ],
   "source": [
    "a1[1:4]"
   ]
  },
  {
   "cell_type": "code",
   "execution_count": 105,
   "id": "4e0822f8",
   "metadata": {},
   "outputs": [],
   "source": [
    "arr = np.random.rand(4,5)"
   ]
  },
  {
   "cell_type": "code",
   "execution_count": 106,
   "id": "5139eef2",
   "metadata": {},
   "outputs": [
    {
     "data": {
      "text/plain": [
       "array([[0.75866156, 0.60418699, 0.73018385, 0.18843478, 0.03746727],\n",
       "       [0.98408563, 0.97302855, 0.11441976, 0.37871172, 0.29475348],\n",
       "       [0.51079858, 0.55411951, 0.67228125, 0.10115438, 0.06293163],\n",
       "       [0.64408278, 0.47310498, 0.1049733 , 0.79937124, 0.14047278]])"
      ]
     },
     "execution_count": 106,
     "metadata": {},
     "output_type": "execute_result"
    }
   ],
   "source": [
    "arr"
   ]
  },
  {
   "cell_type": "code",
   "execution_count": 108,
   "id": "60674965",
   "metadata": {},
   "outputs": [
    {
     "data": {
      "text/plain": [
       "array([0.75866156, 0.60418699, 0.73018385, 0.98408563, 0.97302855,\n",
       "       0.51079858, 0.55411951, 0.67228125, 0.64408278, 0.79937124])"
      ]
     },
     "execution_count": 108,
     "metadata": {},
     "output_type": "execute_result"
    }
   ],
   "source": [
    "arr[arr > 0.5]"
   ]
  },
  {
   "cell_type": "code",
   "execution_count": 115,
   "id": "af30342c",
   "metadata": {},
   "outputs": [
    {
     "data": {
      "text/plain": [
       "array([[0.11441976],\n",
       "       [0.67228125]])"
      ]
     },
     "execution_count": 115,
     "metadata": {},
     "output_type": "execute_result"
    }
   ],
   "source": [
    "arr[1:3,2:3]"
   ]
  },
  {
   "cell_type": "code",
   "execution_count": 128,
   "id": "6347f1ed",
   "metadata": {},
   "outputs": [
    {
     "data": {
      "text/plain": [
       "array([0.78479882, 0.725269  ])"
      ]
     },
     "execution_count": 128,
     "metadata": {},
     "output_type": "execute_result"
    }
   ],
   "source": [
    "arr[[1,2],[2]]"
   ]
  },
  {
   "cell_type": "code",
   "execution_count": 129,
   "id": "e4a759af",
   "metadata": {},
   "outputs": [],
   "source": [
    "arr = np.random.rand(8,5)"
   ]
  },
  {
   "cell_type": "code",
   "execution_count": 130,
   "id": "3ce657d0",
   "metadata": {},
   "outputs": [
    {
     "data": {
      "text/plain": [
       "array([[0.76042499, 0.31738608, 0.21762647, 0.3221186 , 0.44414349],\n",
       "       [0.58885412, 0.46536751, 0.47747516, 0.3370404 , 0.89351997],\n",
       "       [0.50421375, 0.27616468, 0.50747238, 0.04037547, 0.35640081],\n",
       "       [0.04565997, 0.95898395, 0.30805543, 0.9803797 , 0.83614072],\n",
       "       [0.47275332, 0.11863729, 0.25828289, 0.97599405, 0.24461933],\n",
       "       [0.65854507, 0.76144239, 0.80725499, 0.24081992, 0.00781317],\n",
       "       [0.23291222, 0.69336677, 0.9161087 , 0.92181432, 0.80160698],\n",
       "       [0.92852854, 0.4451359 , 0.42773701, 0.1916805 , 0.00525627]])"
      ]
     },
     "execution_count": 130,
     "metadata": {},
     "output_type": "execute_result"
    }
   ],
   "source": [
    "arr"
   ]
  },
  {
   "cell_type": "code",
   "execution_count": 131,
   "id": "91e8c3c1",
   "metadata": {},
   "outputs": [
    {
     "data": {
      "text/plain": [
       "array([[0.58885412, 0.46536751],\n",
       "       [0.50421375, 0.27616468],\n",
       "       [0.04565997, 0.95898395],\n",
       "       [0.47275332, 0.11863729],\n",
       "       [0.65854507, 0.76144239],\n",
       "       [0.23291222, 0.69336677],\n",
       "       [0.92852854, 0.4451359 ]])"
      ]
     },
     "execution_count": 131,
     "metadata": {},
     "output_type": "execute_result"
    }
   ],
   "source": [
    "arr[1:8,0:2]"
   ]
  },
  {
   "cell_type": "code",
   "execution_count": 133,
   "id": "e3c5fb79",
   "metadata": {},
   "outputs": [],
   "source": [
    "a2 = arr[1:8,[0,1,2]]"
   ]
  },
  {
   "cell_type": "code",
   "execution_count": 134,
   "id": "d84d4bac",
   "metadata": {},
   "outputs": [
    {
     "data": {
      "text/plain": [
       "array([[0.58885412, 0.46536751, 0.47747516],\n",
       "       [0.50421375, 0.27616468, 0.50747238],\n",
       "       [0.04565997, 0.95898395, 0.30805543],\n",
       "       [0.47275332, 0.11863729, 0.25828289],\n",
       "       [0.65854507, 0.76144239, 0.80725499],\n",
       "       [0.23291222, 0.69336677, 0.9161087 ],\n",
       "       [0.92852854, 0.4451359 , 0.42773701]])"
      ]
     },
     "execution_count": 134,
     "metadata": {},
     "output_type": "execute_result"
    }
   ],
   "source": [
    "a2"
   ]
  },
  {
   "cell_type": "code",
   "execution_count": 135,
   "id": "f38e87fd",
   "metadata": {},
   "outputs": [],
   "source": [
    "a2[0][0] = 100"
   ]
  },
  {
   "cell_type": "code",
   "execution_count": 136,
   "id": "aa333f8f",
   "metadata": {},
   "outputs": [
    {
     "data": {
      "text/plain": [
       "array([[1.00000000e+02, 4.65367515e-01, 4.77475158e-01],\n",
       "       [5.04213748e-01, 2.76164680e-01, 5.07472381e-01],\n",
       "       [4.56599739e-02, 9.58983950e-01, 3.08055426e-01],\n",
       "       [4.72753316e-01, 1.18637288e-01, 2.58282892e-01],\n",
       "       [6.58545073e-01, 7.61442387e-01, 8.07254988e-01],\n",
       "       [2.32912218e-01, 6.93366772e-01, 9.16108700e-01],\n",
       "       [9.28528539e-01, 4.45135899e-01, 4.27737012e-01]])"
      ]
     },
     "execution_count": 136,
     "metadata": {},
     "output_type": "execute_result"
    }
   ],
   "source": [
    "a2"
   ]
  },
  {
   "cell_type": "code",
   "execution_count": 140,
   "id": "4f1d348c",
   "metadata": {},
   "outputs": [],
   "source": [
    "a = np.array([[1,2],[3,4]])\n",
    "b = np.array([[2,3],[4,5]])"
   ]
  },
  {
   "cell_type": "code",
   "execution_count": 141,
   "id": "33f260e8",
   "metadata": {},
   "outputs": [
    {
     "data": {
      "text/plain": [
       "array([[1, 2],\n",
       "       [3, 4]])"
      ]
     },
     "execution_count": 141,
     "metadata": {},
     "output_type": "execute_result"
    }
   ],
   "source": [
    "a"
   ]
  },
  {
   "cell_type": "code",
   "execution_count": 142,
   "id": "8116518c",
   "metadata": {},
   "outputs": [
    {
     "data": {
      "text/plain": [
       "array([[2, 3],\n",
       "       [4, 5]])"
      ]
     },
     "execution_count": 142,
     "metadata": {},
     "output_type": "execute_result"
    }
   ],
   "source": [
    "b"
   ]
  },
  {
   "cell_type": "code",
   "execution_count": 143,
   "id": "5cb2cd33",
   "metadata": {},
   "outputs": [
    {
     "data": {
      "text/plain": [
       "array([[ 2,  6],\n",
       "       [12, 20]])"
      ]
     },
     "execution_count": 143,
     "metadata": {},
     "output_type": "execute_result"
    }
   ],
   "source": [
    "a*b"
   ]
  },
  {
   "cell_type": "code",
   "execution_count": 144,
   "id": "abe7ed7a",
   "metadata": {},
   "outputs": [
    {
     "data": {
      "text/plain": [
       "array([[10, 13],\n",
       "       [22, 29]])"
      ]
     },
     "execution_count": 144,
     "metadata": {},
     "output_type": "execute_result"
    }
   ],
   "source": [
    "a.dot(b)"
   ]
  },
  {
   "cell_type": "code",
   "execution_count": 147,
   "id": "4b5b7e9b",
   "metadata": {},
   "outputs": [],
   "source": [
    "m = a@b"
   ]
  },
  {
   "cell_type": "code",
   "execution_count": 148,
   "id": "a394034a",
   "metadata": {},
   "outputs": [
    {
     "data": {
      "text/plain": [
       "array([[10, 13],\n",
       "       [22, 29]])"
      ]
     },
     "execution_count": 148,
     "metadata": {},
     "output_type": "execute_result"
    }
   ],
   "source": [
    "m"
   ]
  },
  {
   "cell_type": "code",
   "execution_count": 149,
   "id": "6187df64",
   "metadata": {},
   "outputs": [
    {
     "name": "stderr",
     "output_type": "stream",
     "text": [
      "C:\\Users\\fazlu\\AppData\\Local\\Temp/ipykernel_1648/3791875896.py:1: RuntimeWarning: divide by zero encountered in true_divide\n",
      "  m/0\n"
     ]
    },
    {
     "data": {
      "text/plain": [
       "array([[inf, inf],\n",
       "       [inf, inf]])"
      ]
     },
     "execution_count": 149,
     "metadata": {},
     "output_type": "execute_result"
    }
   ],
   "source": [
    "m/0"
   ]
  },
  {
   "cell_type": "code",
   "execution_count": null,
   "id": "11588975",
   "metadata": {},
   "outputs": [],
   "source": []
  },
  {
   "cell_type": "code",
   "execution_count": null,
   "id": "0f87499f",
   "metadata": {},
   "outputs": [],
   "source": []
  },
  {
   "cell_type": "code",
   "execution_count": null,
   "id": "fe2150f6",
   "metadata": {},
   "outputs": [],
   "source": []
  },
  {
   "cell_type": "code",
   "execution_count": null,
   "id": "18136639",
   "metadata": {},
   "outputs": [],
   "source": []
  },
  {
   "cell_type": "code",
   "execution_count": null,
   "id": "632305b2",
   "metadata": {},
   "outputs": [],
   "source": []
  },
  {
   "cell_type": "code",
   "execution_count": 8,
   "id": "9d46f86c",
   "metadata": {},
   "outputs": [],
   "source": [
    "a = np.arange(4,50)"
   ]
  },
  {
   "cell_type": "code",
   "execution_count": 9,
   "id": "889755c0",
   "metadata": {},
   "outputs": [
    {
     "data": {
      "text/plain": [
       "array([0.60205999, 0.69897   , 0.77815125, 0.84509804, 0.90308999,\n",
       "       0.95424251, 1.        , 1.04139269, 1.07918125, 1.11394335,\n",
       "       1.14612804, 1.17609126, 1.20411998, 1.23044892, 1.25527251,\n",
       "       1.2787536 , 1.30103   , 1.32221929, 1.34242268, 1.36172784,\n",
       "       1.38021124, 1.39794001, 1.41497335, 1.43136376, 1.44715803,\n",
       "       1.462398  , 1.47712125, 1.49136169, 1.50514998, 1.51851394,\n",
       "       1.53147892, 1.54406804, 1.5563025 , 1.56820172, 1.5797836 ,\n",
       "       1.59106461, 1.60205999, 1.61278386, 1.62324929, 1.63346846,\n",
       "       1.64345268, 1.65321251, 1.66275783, 1.67209786, 1.68124124,\n",
       "       1.69019608])"
      ]
     },
     "execution_count": 9,
     "metadata": {},
     "output_type": "execute_result"
    }
   ],
   "source": [
    "np.log10(a)"
   ]
  },
  {
   "cell_type": "code",
   "execution_count": 10,
   "id": "58e0f78e",
   "metadata": {},
   "outputs": [],
   "source": [
    "x = np.array([1,2,3])"
   ]
  },
  {
   "cell_type": "code",
   "execution_count": 11,
   "id": "940b4ee1",
   "metadata": {},
   "outputs": [],
   "source": [
    "y = x"
   ]
  },
  {
   "cell_type": "code",
   "execution_count": 12,
   "id": "32242230",
   "metadata": {},
   "outputs": [
    {
     "data": {
      "text/plain": [
       "array([1, 2, 3])"
      ]
     },
     "execution_count": 12,
     "metadata": {},
     "output_type": "execute_result"
    }
   ],
   "source": [
    "y"
   ]
  },
  {
   "cell_type": "code",
   "execution_count": 13,
   "id": "7be905a8",
   "metadata": {},
   "outputs": [],
   "source": [
    "z = np.copy(x)"
   ]
  },
  {
   "cell_type": "code",
   "execution_count": 14,
   "id": "90485a40",
   "metadata": {},
   "outputs": [
    {
     "data": {
      "text/plain": [
       "array([1, 2, 3])"
      ]
     },
     "execution_count": 14,
     "metadata": {},
     "output_type": "execute_result"
    }
   ],
   "source": [
    "z"
   ]
  },
  {
   "cell_type": "code",
   "execution_count": 15,
   "id": "7bf7863b",
   "metadata": {},
   "outputs": [],
   "source": [
    "x[0] = 100"
   ]
  },
  {
   "cell_type": "code",
   "execution_count": 16,
   "id": "790cb0cc",
   "metadata": {},
   "outputs": [
    {
     "data": {
      "text/plain": [
       "array([100,   2,   3])"
      ]
     },
     "execution_count": 16,
     "metadata": {},
     "output_type": "execute_result"
    }
   ],
   "source": [
    "y"
   ]
  },
  {
   "cell_type": "code",
   "execution_count": 17,
   "id": "92c17ee5",
   "metadata": {},
   "outputs": [
    {
     "data": {
      "text/plain": [
       "array([1, 2, 3])"
      ]
     },
     "execution_count": 17,
     "metadata": {},
     "output_type": "execute_result"
    }
   ],
   "source": [
    "z"
   ]
  },
  {
   "cell_type": "code",
   "execution_count": 18,
   "id": "c3243481",
   "metadata": {},
   "outputs": [
    {
     "data": {
      "text/plain": [
       "2447537501840"
      ]
     },
     "execution_count": 18,
     "metadata": {},
     "output_type": "execute_result"
    }
   ],
   "source": [
    "id(x)"
   ]
  },
  {
   "cell_type": "code",
   "execution_count": 19,
   "id": "d2f85e66",
   "metadata": {},
   "outputs": [
    {
     "data": {
      "text/plain": [
       "2447537501840"
      ]
     },
     "execution_count": 19,
     "metadata": {},
     "output_type": "execute_result"
    }
   ],
   "source": [
    "id(y)"
   ]
  },
  {
   "cell_type": "code",
   "execution_count": 20,
   "id": "8172042a",
   "metadata": {},
   "outputs": [
    {
     "data": {
      "text/plain": [
       "2447537503760"
      ]
     },
     "execution_count": 20,
     "metadata": {},
     "output_type": "execute_result"
    }
   ],
   "source": [
    "id(z)"
   ]
  },
  {
   "cell_type": "code",
   "execution_count": 21,
   "id": "fa3726e6",
   "metadata": {},
   "outputs": [
    {
     "data": {
      "text/plain": [
       "2447536747216"
      ]
     },
     "execution_count": 21,
     "metadata": {},
     "output_type": "execute_result"
    }
   ],
   "source": [
    "id(x[0])"
   ]
  },
  {
   "cell_type": "code",
   "execution_count": 22,
   "id": "65176ac9",
   "metadata": {},
   "outputs": [
    {
     "data": {
      "text/plain": [
       "2447536747216"
      ]
     },
     "execution_count": 22,
     "metadata": {},
     "output_type": "execute_result"
    }
   ],
   "source": [
    "id(y[0])"
   ]
  },
  {
   "cell_type": "code",
   "execution_count": 23,
   "id": "0c34e894",
   "metadata": {},
   "outputs": [
    {
     "data": {
      "text/plain": [
       "2447536747952"
      ]
     },
     "execution_count": 23,
     "metadata": {},
     "output_type": "execute_result"
    }
   ],
   "source": [
    "id(x[1])"
   ]
  },
  {
   "cell_type": "code",
   "execution_count": 24,
   "id": "3f4f3253",
   "metadata": {},
   "outputs": [
    {
     "data": {
      "text/plain": [
       "2447536747952"
      ]
     },
     "execution_count": 24,
     "metadata": {},
     "output_type": "execute_result"
    }
   ],
   "source": [
    "id(y[1])"
   ]
  },
  {
   "cell_type": "code",
   "execution_count": 25,
   "id": "95ad57df",
   "metadata": {},
   "outputs": [],
   "source": [
    "x = np.array([1,2,3])"
   ]
  },
  {
   "cell_type": "code",
   "execution_count": 26,
   "id": "fdfe9f6e",
   "metadata": {},
   "outputs": [],
   "source": [
    "y = x"
   ]
  },
  {
   "cell_type": "code",
   "execution_count": 27,
   "id": "c24bf952",
   "metadata": {},
   "outputs": [
    {
     "data": {
      "text/plain": [
       "2447537502416"
      ]
     },
     "execution_count": 27,
     "metadata": {},
     "output_type": "execute_result"
    }
   ],
   "source": [
    "id(x)"
   ]
  },
  {
   "cell_type": "code",
   "execution_count": 28,
   "id": "da89f3aa",
   "metadata": {},
   "outputs": [
    {
     "data": {
      "text/plain": [
       "2447537502416"
      ]
     },
     "execution_count": 28,
     "metadata": {},
     "output_type": "execute_result"
    }
   ],
   "source": [
    "id(y)"
   ]
  },
  {
   "cell_type": "code",
   "execution_count": 29,
   "id": "4c26cb6c",
   "metadata": {},
   "outputs": [
    {
     "data": {
      "text/plain": [
       "2447536748880"
      ]
     },
     "execution_count": 29,
     "metadata": {},
     "output_type": "execute_result"
    }
   ],
   "source": [
    "id(x[0])"
   ]
  },
  {
   "cell_type": "code",
   "execution_count": 30,
   "id": "ea7083af",
   "metadata": {},
   "outputs": [
    {
     "data": {
      "text/plain": [
       "2447536748528"
      ]
     },
     "execution_count": 30,
     "metadata": {},
     "output_type": "execute_result"
    }
   ],
   "source": [
    "id(y[0])"
   ]
  },
  {
   "cell_type": "code",
   "execution_count": 32,
   "id": "78a850e0",
   "metadata": {},
   "outputs": [],
   "source": [
    "su = np.array([457,345])"
   ]
  },
  {
   "cell_type": "code",
   "execution_count": 33,
   "id": "c5e092bd",
   "metadata": {},
   "outputs": [],
   "source": [
    "df = su"
   ]
  },
  {
   "cell_type": "code",
   "execution_count": 34,
   "id": "c169ab61",
   "metadata": {},
   "outputs": [
    {
     "data": {
      "text/plain": [
       "2447537750448"
      ]
     },
     "execution_count": 34,
     "metadata": {},
     "output_type": "execute_result"
    }
   ],
   "source": [
    "id(su)"
   ]
  },
  {
   "cell_type": "code",
   "execution_count": 35,
   "id": "6e926186",
   "metadata": {},
   "outputs": [
    {
     "data": {
      "text/plain": [
       "2447537750448"
      ]
     },
     "execution_count": 35,
     "metadata": {},
     "output_type": "execute_result"
    }
   ],
   "source": [
    "id(df)"
   ]
  },
  {
   "cell_type": "code",
   "execution_count": 36,
   "id": "8edc6c8e",
   "metadata": {},
   "outputs": [
    {
     "data": {
      "text/plain": [
       "2447536749168"
      ]
     },
     "execution_count": 36,
     "metadata": {},
     "output_type": "execute_result"
    }
   ],
   "source": [
    "id(su[0])"
   ]
  },
  {
   "cell_type": "code",
   "execution_count": 37,
   "id": "211d5078",
   "metadata": {},
   "outputs": [
    {
     "data": {
      "text/plain": [
       "2447536748912"
      ]
     },
     "execution_count": 37,
     "metadata": {},
     "output_type": "execute_result"
    }
   ],
   "source": [
    "id(df[0])"
   ]
  },
  {
   "cell_type": "code",
   "execution_count": 39,
   "id": "5d7871f1",
   "metadata": {},
   "outputs": [
    {
     "data": {
      "text/plain": [
       "True"
      ]
     },
     "execution_count": 39,
     "metadata": {},
     "output_type": "execute_result"
    }
   ],
   "source": [
    "id(su[1]) == id(df[1])"
   ]
  },
  {
   "cell_type": "code",
   "execution_count": 40,
   "id": "089ff75b",
   "metadata": {},
   "outputs": [
    {
     "data": {
      "text/plain": [
       "True"
      ]
     },
     "execution_count": 40,
     "metadata": {},
     "output_type": "execute_result"
    }
   ],
   "source": [
    "id(su[1]) == id(df[0])"
   ]
  },
  {
   "cell_type": "code",
   "execution_count": 41,
   "id": "52d6d12a",
   "metadata": {},
   "outputs": [
    {
     "data": {
      "text/plain": [
       "True"
      ]
     },
     "execution_count": 41,
     "metadata": {},
     "output_type": "execute_result"
    }
   ],
   "source": [
    "id(df) == id(su)"
   ]
  },
  {
   "cell_type": "code",
   "execution_count": 42,
   "id": "f87d9ccd",
   "metadata": {},
   "outputs": [],
   "source": [
    "xt = np.array([34,67,89])"
   ]
  },
  {
   "cell_type": "code",
   "execution_count": 43,
   "id": "aec7e4a3",
   "metadata": {},
   "outputs": [
    {
     "data": {
      "text/plain": [
       "True"
      ]
     },
     "execution_count": 43,
     "metadata": {},
     "output_type": "execute_result"
    }
   ],
   "source": [
    "id(xt[0]) == id(su[0])"
   ]
  },
  {
   "cell_type": "code",
   "execution_count": null,
   "id": "154c9336",
   "metadata": {},
   "outputs": [],
   "source": []
  }
 ],
 "metadata": {
  "kernelspec": {
   "display_name": "Python 3",
   "language": "python",
   "name": "python3"
  },
  "language_info": {
   "codemirror_mode": {
    "name": "ipython",
    "version": 3
   },
   "file_extension": ".py",
   "mimetype": "text/x-python",
   "name": "python",
   "nbconvert_exporter": "python",
   "pygments_lexer": "ipython3",
   "version": "3.8.8"
  }
 },
 "nbformat": 4,
 "nbformat_minor": 5
}
