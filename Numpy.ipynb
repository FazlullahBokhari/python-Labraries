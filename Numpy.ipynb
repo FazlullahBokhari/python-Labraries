{
 "cells": [
  {
   "cell_type": "code",
   "execution_count": 29,
   "id": "c28616b8",
   "metadata": {},
   "outputs": [],
   "source": [
    "import numpy as np\n",
    "import pandas as pd"
   ]
  },
  {
   "cell_type": "code",
   "execution_count": 30,
   "id": "2a81e326",
   "metadata": {},
   "outputs": [],
   "source": [
    "l = [\"sudh\", 1,2,3,4]"
   ]
  },
  {
   "cell_type": "code",
   "execution_count": 31,
   "id": "a1296052",
   "metadata": {},
   "outputs": [
    {
     "data": {
      "text/plain": [
       "list"
      ]
     },
     "execution_count": 31,
     "metadata": {},
     "output_type": "execute_result"
    }
   ],
   "source": [
    "type(l)"
   ]
  },
  {
   "cell_type": "code",
   "execution_count": 32,
   "id": "9c4cb8d9",
   "metadata": {},
   "outputs": [
    {
     "data": {
      "text/plain": [
       "array(['sudh', '1', '2', '3', '4'], dtype='<U11')"
      ]
     },
     "execution_count": 32,
     "metadata": {},
     "output_type": "execute_result"
    }
   ],
   "source": [
    "np.array(l)"
   ]
  },
  {
   "cell_type": "code",
   "execution_count": 33,
   "id": "6979b355",
   "metadata": {},
   "outputs": [
    {
     "data": {
      "text/plain": [
       "numpy.ndarray"
      ]
     },
     "execution_count": 33,
     "metadata": {},
     "output_type": "execute_result"
    }
   ],
   "source": [
    "type(np.array(l))"
   ]
  },
  {
   "cell_type": "code",
   "execution_count": 34,
   "id": "0fafd65a",
   "metadata": {},
   "outputs": [],
   "source": [
    "a1 = np.array([3,2,4,5,6,3.0])"
   ]
  },
  {
   "cell_type": "code",
   "execution_count": 35,
   "id": "2a2c3ff6",
   "metadata": {},
   "outputs": [],
   "source": [
    "a = np.array([[1,2],[3,4]])"
   ]
  },
  {
   "cell_type": "code",
   "execution_count": 36,
   "id": "25da7e21",
   "metadata": {},
   "outputs": [
    {
     "data": {
      "text/plain": [
       "array([[1, 2],\n",
       "       [3, 4]])"
      ]
     },
     "execution_count": 36,
     "metadata": {},
     "output_type": "execute_result"
    }
   ],
   "source": [
    "a"
   ]
  },
  {
   "cell_type": "code",
   "execution_count": 37,
   "id": "29246733",
   "metadata": {},
   "outputs": [
    {
     "data": {
      "text/plain": [
       "4"
      ]
     },
     "execution_count": 37,
     "metadata": {},
     "output_type": "execute_result"
    }
   ],
   "source": [
    "a[1][1]"
   ]
  },
  {
   "cell_type": "code",
   "execution_count": 38,
   "id": "ff80edb2",
   "metadata": {},
   "outputs": [
    {
     "data": {
      "text/plain": [
       "array([3., 2., 4., 5., 6., 3.])"
      ]
     },
     "execution_count": 38,
     "metadata": {},
     "output_type": "execute_result"
    }
   ],
   "source": [
    "a1"
   ]
  },
  {
   "cell_type": "code",
   "execution_count": 39,
   "id": "27b444b1",
   "metadata": {},
   "outputs": [
    {
     "data": {
      "text/plain": [
       "4.0"
      ]
     },
     "execution_count": 39,
     "metadata": {},
     "output_type": "execute_result"
    }
   ],
   "source": [
    "a1[2]"
   ]
  },
  {
   "cell_type": "code",
   "execution_count": 40,
   "id": "e3d8e749",
   "metadata": {},
   "outputs": [],
   "source": [
    "a2 = np.array([1,2,3,4],ndmin=4)"
   ]
  },
  {
   "cell_type": "code",
   "execution_count": 41,
   "id": "54fb3b39",
   "metadata": {},
   "outputs": [
    {
     "data": {
      "text/plain": [
       "array([[[[1, 2, 3, 4]]]])"
      ]
     },
     "execution_count": 41,
     "metadata": {},
     "output_type": "execute_result"
    }
   ],
   "source": [
    "a2"
   ]
  },
  {
   "cell_type": "code",
   "execution_count": 42,
   "id": "e17bd0ce",
   "metadata": {},
   "outputs": [
    {
     "data": {
      "text/plain": [
       "1"
      ]
     },
     "execution_count": 42,
     "metadata": {},
     "output_type": "execute_result"
    }
   ],
   "source": [
    "a2[0][0][0][0]"
   ]
  },
  {
   "cell_type": "code",
   "execution_count": 43,
   "id": "cf88c1be",
   "metadata": {},
   "outputs": [
    {
     "data": {
      "text/plain": [
       "array([1, 2, 3, 4, 5])"
      ]
     },
     "execution_count": 43,
     "metadata": {},
     "output_type": "execute_result"
    }
   ],
   "source": [
    "np.asarray([1,2,3,4,5])"
   ]
  },
  {
   "cell_type": "code",
   "execution_count": 44,
   "id": "18d47ab1",
   "metadata": {},
   "outputs": [
    {
     "data": {
      "text/plain": [
       "array([1, 2, 3, 4, 5])"
      ]
     },
     "execution_count": 44,
     "metadata": {},
     "output_type": "execute_result"
    }
   ],
   "source": [
    "np.asanyarray([1,2,3,4,5])"
   ]
  },
  {
   "cell_type": "code",
   "execution_count": 45,
   "id": "40865f98",
   "metadata": {},
   "outputs": [
    {
     "data": {
      "text/plain": [
       "matrix([[1, 2, 3, 4, 5]])"
      ]
     },
     "execution_count": 45,
     "metadata": {},
     "output_type": "execute_result"
    }
   ],
   "source": [
    "np.mat([1,2,3,4,5]) # minimun 2 dimension"
   ]
  },
  {
   "cell_type": "code",
   "execution_count": 46,
   "id": "fdc301b0",
   "metadata": {},
   "outputs": [],
   "source": [
    "a = [1,2,3,4,5]"
   ]
  },
  {
   "cell_type": "code",
   "execution_count": 47,
   "id": "d03cc9cc",
   "metadata": {},
   "outputs": [
    {
     "data": {
      "text/plain": [
       "array([1, 2, 3, 4, 5])"
      ]
     },
     "execution_count": 47,
     "metadata": {},
     "output_type": "execute_result"
    }
   ],
   "source": [
    "np.asarray(a)"
   ]
  },
  {
   "cell_type": "code",
   "execution_count": 48,
   "id": "11be3287",
   "metadata": {},
   "outputs": [
    {
     "data": {
      "text/plain": [
       "matrix([[1, 2, 3, 4, 5]])"
      ]
     },
     "execution_count": 48,
     "metadata": {},
     "output_type": "execute_result"
    }
   ],
   "source": [
    "np.mat(a)"
   ]
  },
  {
   "cell_type": "code",
   "execution_count": 49,
   "id": "3cf82671",
   "metadata": {},
   "outputs": [
    {
     "data": {
      "text/plain": [
       "array([1, 2, 3, 4, 5])"
      ]
     },
     "execution_count": 49,
     "metadata": {},
     "output_type": "execute_result"
    }
   ],
   "source": [
    "np.asanyarray(a)"
   ]
  },
  {
   "cell_type": "code",
   "execution_count": 50,
   "id": "9201c58b",
   "metadata": {},
   "outputs": [
    {
     "data": {
      "text/plain": [
       "matrix([[1, 2, 3, 4, 5]])"
      ]
     },
     "execution_count": 50,
     "metadata": {},
     "output_type": "execute_result"
    }
   ],
   "source": [
    "np.asanyarray(np.mat(a))"
   ]
  },
  {
   "cell_type": "code",
   "execution_count": 51,
   "id": "3c737039",
   "metadata": {},
   "outputs": [
    {
     "data": {
      "text/plain": [
       "array([[ True, False, False],\n",
       "       [False,  True, False],\n",
       "       [False, False,  True]])"
      ]
     },
     "execution_count": 51,
     "metadata": {},
     "output_type": "execute_result"
    }
   ],
   "source": [
    "np.fromfunction(lambda i, j : i==j, (3,3))"
   ]
  },
  {
   "cell_type": "code",
   "execution_count": 52,
   "id": "3901c1f6",
   "metadata": {},
   "outputs": [
    {
     "data": {
      "text/plain": [
       "array([[0, 0, 0, 0],\n",
       "       [0, 1, 2, 3],\n",
       "       [0, 2, 4, 6],\n",
       "       [0, 3, 6, 9]])"
      ]
     },
     "execution_count": 52,
     "metadata": {},
     "output_type": "execute_result"
    }
   ],
   "source": [
    "np.fromfunction(lambda i, j : i*j, (4,4), dtype=int)"
   ]
  },
  {
   "cell_type": "code",
   "execution_count": 53,
   "id": "14aa7bb0",
   "metadata": {},
   "outputs": [
    {
     "data": {
      "text/plain": [
       "matrix([[0, 0, 0, 0],\n",
       "        [0, 1, 2, 3],\n",
       "        [0, 2, 4, 6],\n",
       "        [0, 3, 6, 9]])"
      ]
     },
     "execution_count": 53,
     "metadata": {},
     "output_type": "execute_result"
    }
   ],
   "source": [
    "np.mat(np.fromfunction(lambda i, j : i*j, (4,4), dtype=int))"
   ]
  },
  {
   "cell_type": "code",
   "execution_count": 54,
   "id": "bf7da505",
   "metadata": {},
   "outputs": [
    {
     "data": {
      "text/plain": [
       "array([[[0, 0],\n",
       "        [0, 0],\n",
       "        [0, 0]],\n",
       "\n",
       "       [[0, 0],\n",
       "        [0, 1],\n",
       "        [0, 2]],\n",
       "\n",
       "       [[0, 0],\n",
       "        [0, 2],\n",
       "        [0, 4]],\n",
       "\n",
       "       [[0, 0],\n",
       "        [0, 3],\n",
       "        [0, 6]]])"
      ]
     },
     "execution_count": 54,
     "metadata": {},
     "output_type": "execute_result"
    }
   ],
   "source": [
    "np.fromfunction(lambda i, j,z : i*j*z, (4,3,2), dtype=int)"
   ]
  },
  {
   "cell_type": "code",
   "execution_count": 55,
   "id": "6ff292f4",
   "metadata": {},
   "outputs": [],
   "source": [
    "a = np.fromfunction(lambda i, j,z,p : i*j*z*p, (4,3,2,2), dtype=int)"
   ]
  },
  {
   "cell_type": "code",
   "execution_count": 56,
   "id": "b3f9696c",
   "metadata": {},
   "outputs": [
    {
     "ename": "SyntaxError",
     "evalue": "invalid syntax (Temp/ipykernel_6048/1995618633.py, line 1)",
     "output_type": "error",
     "traceback": [
      "\u001b[1;36m  File \u001b[1;32m\"C:\\Users\\fazlu\\AppData\\Local\\Temp/ipykernel_6048/1995618633.py\"\u001b[1;36m, line \u001b[1;32m1\u001b[0m\n\u001b[1;33m    Job Location- Work From Home\u001b[0m\n\u001b[1;37m        ^\u001b[0m\n\u001b[1;31mSyntaxError\u001b[0m\u001b[1;31m:\u001b[0m invalid syntax\n"
     ]
    }
   ],
   "source": [
    "Job Location- Work From Home\n",
    "Interested candidates can share their resumes at Whatsapp Divya Ma'am: +918928482266\n",
    "\n",
    "For more details Please Contact on +918928482266"
   ]
  },
  {
   "cell_type": "code",
   "execution_count": 57,
   "id": "c2914ee0",
   "metadata": {},
   "outputs": [
    {
     "data": {
      "text/plain": [
       "array([[[[0, 0],\n",
       "         [0, 0]],\n",
       "\n",
       "        [[0, 0],\n",
       "         [0, 0]],\n",
       "\n",
       "        [[0, 0],\n",
       "         [0, 0]]],\n",
       "\n",
       "\n",
       "       [[[0, 0],\n",
       "         [0, 0]],\n",
       "\n",
       "        [[0, 0],\n",
       "         [0, 1]],\n",
       "\n",
       "        [[0, 0],\n",
       "         [0, 2]]],\n",
       "\n",
       "\n",
       "       [[[0, 0],\n",
       "         [0, 0]],\n",
       "\n",
       "        [[0, 0],\n",
       "         [0, 2]],\n",
       "\n",
       "        [[0, 0],\n",
       "         [0, 4]]],\n",
       "\n",
       "\n",
       "       [[[0, 0],\n",
       "         [0, 0]],\n",
       "\n",
       "        [[0, 0],\n",
       "         [0, 3]],\n",
       "\n",
       "        [[0, 0],\n",
       "         [0, 6]]]])"
      ]
     },
     "execution_count": 57,
     "metadata": {},
     "output_type": "execute_result"
    }
   ],
   "source": [
    "a"
   ]
  },
  {
   "cell_type": "code",
   "execution_count": 58,
   "id": "07009e50",
   "metadata": {},
   "outputs": [],
   "source": [
    "a = np.fromfunction(lambda i, j,z: i*j*z, (4,3,2), dtype=int)"
   ]
  },
  {
   "cell_type": "code",
   "execution_count": 59,
   "id": "95270527",
   "metadata": {},
   "outputs": [
    {
     "data": {
      "text/plain": [
       "(4, 3, 2)"
      ]
     },
     "execution_count": 59,
     "metadata": {},
     "output_type": "execute_result"
    }
   ],
   "source": [
    "a.shape"
   ]
  },
  {
   "cell_type": "code",
   "execution_count": 60,
   "id": "7b9ab77f",
   "metadata": {},
   "outputs": [
    {
     "data": {
      "text/plain": [
       "3"
      ]
     },
     "execution_count": 60,
     "metadata": {},
     "output_type": "execute_result"
    }
   ],
   "source": [
    "a.ndim"
   ]
  },
  {
   "cell_type": "code",
   "execution_count": 61,
   "id": "6d8f56ff",
   "metadata": {},
   "outputs": [
    {
     "data": {
      "text/plain": [
       "24"
      ]
     },
     "execution_count": 61,
     "metadata": {},
     "output_type": "execute_result"
    }
   ],
   "source": [
    "a.size"
   ]
  },
  {
   "cell_type": "code",
   "execution_count": 62,
   "id": "f7f36383",
   "metadata": {},
   "outputs": [
    {
     "data": {
      "text/plain": [
       "dtype('int32')"
      ]
     },
     "execution_count": 62,
     "metadata": {},
     "output_type": "execute_result"
    }
   ],
   "source": [
    "a.dtype"
   ]
  },
  {
   "cell_type": "code",
   "execution_count": 63,
   "id": "24e66e42",
   "metadata": {},
   "outputs": [
    {
     "data": {
      "text/plain": [
       "array([[[0, 0],\n",
       "        [0, 0],\n",
       "        [0, 0]],\n",
       "\n",
       "       [[0, 0],\n",
       "        [0, 1],\n",
       "        [0, 2]],\n",
       "\n",
       "       [[0, 0],\n",
       "        [0, 2],\n",
       "        [0, 4]],\n",
       "\n",
       "       [[0, 0],\n",
       "        [0, 3],\n",
       "        [0, 6]]])"
      ]
     },
     "execution_count": 63,
     "metadata": {},
     "output_type": "execute_result"
    }
   ],
   "source": [
    "a"
   ]
  },
  {
   "cell_type": "code",
   "execution_count": 64,
   "id": "3f89fe18",
   "metadata": {},
   "outputs": [
    {
     "ename": "ValueError",
     "evalue": "Must pass 2-d input. shape=(4, 3, 2)",
     "output_type": "error",
     "traceback": [
      "\u001b[1;31m---------------------------------------------------------------------------\u001b[0m",
      "\u001b[1;31mValueError\u001b[0m                                Traceback (most recent call last)",
      "\u001b[1;32m~\\AppData\\Local\\Temp/ipykernel_6048/516763050.py\u001b[0m in \u001b[0;36m<module>\u001b[1;34m\u001b[0m\n\u001b[1;32m----> 1\u001b[1;33m \u001b[0mpd\u001b[0m\u001b[1;33m.\u001b[0m\u001b[0mDataFrame\u001b[0m\u001b[1;33m(\u001b[0m\u001b[0ma\u001b[0m\u001b[1;33m)\u001b[0m\u001b[1;33m\u001b[0m\u001b[1;33m\u001b[0m\u001b[0m\n\u001b[0m",
      "\u001b[1;32m~\\anaconda3\\lib\\site-packages\\pandas\\core\\frame.py\u001b[0m in \u001b[0;36m__init__\u001b[1;34m(self, data, index, columns, dtype, copy)\u001b[0m\n\u001b[0;32m    692\u001b[0m                 )\n\u001b[0;32m    693\u001b[0m             \u001b[1;32melse\u001b[0m\u001b[1;33m:\u001b[0m\u001b[1;33m\u001b[0m\u001b[1;33m\u001b[0m\u001b[0m\n\u001b[1;32m--> 694\u001b[1;33m                 mgr = ndarray_to_mgr(\n\u001b[0m\u001b[0;32m    695\u001b[0m                     \u001b[0mdata\u001b[0m\u001b[1;33m,\u001b[0m\u001b[1;33m\u001b[0m\u001b[1;33m\u001b[0m\u001b[0m\n\u001b[0;32m    696\u001b[0m                     \u001b[0mindex\u001b[0m\u001b[1;33m,\u001b[0m\u001b[1;33m\u001b[0m\u001b[1;33m\u001b[0m\u001b[0m\n",
      "\u001b[1;32m~\\anaconda3\\lib\\site-packages\\pandas\\core\\internals\\construction.py\u001b[0m in \u001b[0;36mndarray_to_mgr\u001b[1;34m(values, index, columns, dtype, copy, typ)\u001b[0m\n\u001b[0;32m    329\u001b[0m         \u001b[1;31m# by definition an array here\u001b[0m\u001b[1;33m\u001b[0m\u001b[1;33m\u001b[0m\u001b[1;33m\u001b[0m\u001b[0m\n\u001b[0;32m    330\u001b[0m         \u001b[1;31m# the dtypes will be coerced to a single dtype\u001b[0m\u001b[1;33m\u001b[0m\u001b[1;33m\u001b[0m\u001b[1;33m\u001b[0m\u001b[0m\n\u001b[1;32m--> 331\u001b[1;33m         \u001b[0mvalues\u001b[0m \u001b[1;33m=\u001b[0m \u001b[0m_prep_ndarray\u001b[0m\u001b[1;33m(\u001b[0m\u001b[0mvalues\u001b[0m\u001b[1;33m,\u001b[0m \u001b[0mcopy\u001b[0m\u001b[1;33m=\u001b[0m\u001b[0mcopy_on_sanitize\u001b[0m\u001b[1;33m)\u001b[0m\u001b[1;33m\u001b[0m\u001b[1;33m\u001b[0m\u001b[0m\n\u001b[0m\u001b[0;32m    332\u001b[0m \u001b[1;33m\u001b[0m\u001b[0m\n\u001b[0;32m    333\u001b[0m     \u001b[1;32mif\u001b[0m \u001b[0mdtype\u001b[0m \u001b[1;32mis\u001b[0m \u001b[1;32mnot\u001b[0m \u001b[1;32mNone\u001b[0m \u001b[1;32mand\u001b[0m \u001b[1;32mnot\u001b[0m \u001b[0mis_dtype_equal\u001b[0m\u001b[1;33m(\u001b[0m\u001b[0mvalues\u001b[0m\u001b[1;33m.\u001b[0m\u001b[0mdtype\u001b[0m\u001b[1;33m,\u001b[0m \u001b[0mdtype\u001b[0m\u001b[1;33m)\u001b[0m\u001b[1;33m:\u001b[0m\u001b[1;33m\u001b[0m\u001b[1;33m\u001b[0m\u001b[0m\n",
      "\u001b[1;32m~\\anaconda3\\lib\\site-packages\\pandas\\core\\internals\\construction.py\u001b[0m in \u001b[0;36m_prep_ndarray\u001b[1;34m(values, copy)\u001b[0m\n\u001b[0;32m    589\u001b[0m         \u001b[0mvalues\u001b[0m \u001b[1;33m=\u001b[0m \u001b[0mvalues\u001b[0m\u001b[1;33m.\u001b[0m\u001b[0mreshape\u001b[0m\u001b[1;33m(\u001b[0m\u001b[1;33m(\u001b[0m\u001b[0mvalues\u001b[0m\u001b[1;33m.\u001b[0m\u001b[0mshape\u001b[0m\u001b[1;33m[\u001b[0m\u001b[1;36m0\u001b[0m\u001b[1;33m]\u001b[0m\u001b[1;33m,\u001b[0m \u001b[1;36m1\u001b[0m\u001b[1;33m)\u001b[0m\u001b[1;33m)\u001b[0m\u001b[1;33m\u001b[0m\u001b[1;33m\u001b[0m\u001b[0m\n\u001b[0;32m    590\u001b[0m     \u001b[1;32melif\u001b[0m \u001b[0mvalues\u001b[0m\u001b[1;33m.\u001b[0m\u001b[0mndim\u001b[0m \u001b[1;33m!=\u001b[0m \u001b[1;36m2\u001b[0m\u001b[1;33m:\u001b[0m\u001b[1;33m\u001b[0m\u001b[1;33m\u001b[0m\u001b[0m\n\u001b[1;32m--> 591\u001b[1;33m         \u001b[1;32mraise\u001b[0m \u001b[0mValueError\u001b[0m\u001b[1;33m(\u001b[0m\u001b[1;34mf\"Must pass 2-d input. shape={values.shape}\"\u001b[0m\u001b[1;33m)\u001b[0m\u001b[1;33m\u001b[0m\u001b[1;33m\u001b[0m\u001b[0m\n\u001b[0m\u001b[0;32m    592\u001b[0m \u001b[1;33m\u001b[0m\u001b[0m\n\u001b[0;32m    593\u001b[0m     \u001b[1;32mreturn\u001b[0m \u001b[0mvalues\u001b[0m\u001b[1;33m\u001b[0m\u001b[1;33m\u001b[0m\u001b[0m\n",
      "\u001b[1;31mValueError\u001b[0m: Must pass 2-d input. shape=(4, 3, 2)"
     ]
    }
   ],
   "source": [
    "pd.DataFrame(a)"
   ]
  },
  {
   "cell_type": "code",
   "execution_count": 65,
   "id": "c825337d",
   "metadata": {},
   "outputs": [],
   "source": [
    "a = np.fromfunction(lambda i, j: i*j, (100,100), dtype=int)"
   ]
  },
  {
   "cell_type": "code",
   "execution_count": 66,
   "id": "4c1285c2",
   "metadata": {},
   "outputs": [
    {
     "data": {
      "text/html": [
       "<div>\n",
       "<style scoped>\n",
       "    .dataframe tbody tr th:only-of-type {\n",
       "        vertical-align: middle;\n",
       "    }\n",
       "\n",
       "    .dataframe tbody tr th {\n",
       "        vertical-align: top;\n",
       "    }\n",
       "\n",
       "    .dataframe thead th {\n",
       "        text-align: right;\n",
       "    }\n",
       "</style>\n",
       "<table border=\"1\" class=\"dataframe\">\n",
       "  <thead>\n",
       "    <tr style=\"text-align: right;\">\n",
       "      <th></th>\n",
       "      <th>0</th>\n",
       "      <th>1</th>\n",
       "      <th>2</th>\n",
       "      <th>3</th>\n",
       "      <th>4</th>\n",
       "      <th>5</th>\n",
       "      <th>6</th>\n",
       "      <th>7</th>\n",
       "      <th>8</th>\n",
       "      <th>9</th>\n",
       "      <th>...</th>\n",
       "      <th>90</th>\n",
       "      <th>91</th>\n",
       "      <th>92</th>\n",
       "      <th>93</th>\n",
       "      <th>94</th>\n",
       "      <th>95</th>\n",
       "      <th>96</th>\n",
       "      <th>97</th>\n",
       "      <th>98</th>\n",
       "      <th>99</th>\n",
       "    </tr>\n",
       "  </thead>\n",
       "  <tbody>\n",
       "    <tr>\n",
       "      <th>0</th>\n",
       "      <td>0</td>\n",
       "      <td>0</td>\n",
       "      <td>0</td>\n",
       "      <td>0</td>\n",
       "      <td>0</td>\n",
       "      <td>0</td>\n",
       "      <td>0</td>\n",
       "      <td>0</td>\n",
       "      <td>0</td>\n",
       "      <td>0</td>\n",
       "      <td>...</td>\n",
       "      <td>0</td>\n",
       "      <td>0</td>\n",
       "      <td>0</td>\n",
       "      <td>0</td>\n",
       "      <td>0</td>\n",
       "      <td>0</td>\n",
       "      <td>0</td>\n",
       "      <td>0</td>\n",
       "      <td>0</td>\n",
       "      <td>0</td>\n",
       "    </tr>\n",
       "    <tr>\n",
       "      <th>1</th>\n",
       "      <td>0</td>\n",
       "      <td>1</td>\n",
       "      <td>2</td>\n",
       "      <td>3</td>\n",
       "      <td>4</td>\n",
       "      <td>5</td>\n",
       "      <td>6</td>\n",
       "      <td>7</td>\n",
       "      <td>8</td>\n",
       "      <td>9</td>\n",
       "      <td>...</td>\n",
       "      <td>90</td>\n",
       "      <td>91</td>\n",
       "      <td>92</td>\n",
       "      <td>93</td>\n",
       "      <td>94</td>\n",
       "      <td>95</td>\n",
       "      <td>96</td>\n",
       "      <td>97</td>\n",
       "      <td>98</td>\n",
       "      <td>99</td>\n",
       "    </tr>\n",
       "    <tr>\n",
       "      <th>2</th>\n",
       "      <td>0</td>\n",
       "      <td>2</td>\n",
       "      <td>4</td>\n",
       "      <td>6</td>\n",
       "      <td>8</td>\n",
       "      <td>10</td>\n",
       "      <td>12</td>\n",
       "      <td>14</td>\n",
       "      <td>16</td>\n",
       "      <td>18</td>\n",
       "      <td>...</td>\n",
       "      <td>180</td>\n",
       "      <td>182</td>\n",
       "      <td>184</td>\n",
       "      <td>186</td>\n",
       "      <td>188</td>\n",
       "      <td>190</td>\n",
       "      <td>192</td>\n",
       "      <td>194</td>\n",
       "      <td>196</td>\n",
       "      <td>198</td>\n",
       "    </tr>\n",
       "    <tr>\n",
       "      <th>3</th>\n",
       "      <td>0</td>\n",
       "      <td>3</td>\n",
       "      <td>6</td>\n",
       "      <td>9</td>\n",
       "      <td>12</td>\n",
       "      <td>15</td>\n",
       "      <td>18</td>\n",
       "      <td>21</td>\n",
       "      <td>24</td>\n",
       "      <td>27</td>\n",
       "      <td>...</td>\n",
       "      <td>270</td>\n",
       "      <td>273</td>\n",
       "      <td>276</td>\n",
       "      <td>279</td>\n",
       "      <td>282</td>\n",
       "      <td>285</td>\n",
       "      <td>288</td>\n",
       "      <td>291</td>\n",
       "      <td>294</td>\n",
       "      <td>297</td>\n",
       "    </tr>\n",
       "    <tr>\n",
       "      <th>4</th>\n",
       "      <td>0</td>\n",
       "      <td>4</td>\n",
       "      <td>8</td>\n",
       "      <td>12</td>\n",
       "      <td>16</td>\n",
       "      <td>20</td>\n",
       "      <td>24</td>\n",
       "      <td>28</td>\n",
       "      <td>32</td>\n",
       "      <td>36</td>\n",
       "      <td>...</td>\n",
       "      <td>360</td>\n",
       "      <td>364</td>\n",
       "      <td>368</td>\n",
       "      <td>372</td>\n",
       "      <td>376</td>\n",
       "      <td>380</td>\n",
       "      <td>384</td>\n",
       "      <td>388</td>\n",
       "      <td>392</td>\n",
       "      <td>396</td>\n",
       "    </tr>\n",
       "    <tr>\n",
       "      <th>...</th>\n",
       "      <td>...</td>\n",
       "      <td>...</td>\n",
       "      <td>...</td>\n",
       "      <td>...</td>\n",
       "      <td>...</td>\n",
       "      <td>...</td>\n",
       "      <td>...</td>\n",
       "      <td>...</td>\n",
       "      <td>...</td>\n",
       "      <td>...</td>\n",
       "      <td>...</td>\n",
       "      <td>...</td>\n",
       "      <td>...</td>\n",
       "      <td>...</td>\n",
       "      <td>...</td>\n",
       "      <td>...</td>\n",
       "      <td>...</td>\n",
       "      <td>...</td>\n",
       "      <td>...</td>\n",
       "      <td>...</td>\n",
       "      <td>...</td>\n",
       "    </tr>\n",
       "    <tr>\n",
       "      <th>95</th>\n",
       "      <td>0</td>\n",
       "      <td>95</td>\n",
       "      <td>190</td>\n",
       "      <td>285</td>\n",
       "      <td>380</td>\n",
       "      <td>475</td>\n",
       "      <td>570</td>\n",
       "      <td>665</td>\n",
       "      <td>760</td>\n",
       "      <td>855</td>\n",
       "      <td>...</td>\n",
       "      <td>8550</td>\n",
       "      <td>8645</td>\n",
       "      <td>8740</td>\n",
       "      <td>8835</td>\n",
       "      <td>8930</td>\n",
       "      <td>9025</td>\n",
       "      <td>9120</td>\n",
       "      <td>9215</td>\n",
       "      <td>9310</td>\n",
       "      <td>9405</td>\n",
       "    </tr>\n",
       "    <tr>\n",
       "      <th>96</th>\n",
       "      <td>0</td>\n",
       "      <td>96</td>\n",
       "      <td>192</td>\n",
       "      <td>288</td>\n",
       "      <td>384</td>\n",
       "      <td>480</td>\n",
       "      <td>576</td>\n",
       "      <td>672</td>\n",
       "      <td>768</td>\n",
       "      <td>864</td>\n",
       "      <td>...</td>\n",
       "      <td>8640</td>\n",
       "      <td>8736</td>\n",
       "      <td>8832</td>\n",
       "      <td>8928</td>\n",
       "      <td>9024</td>\n",
       "      <td>9120</td>\n",
       "      <td>9216</td>\n",
       "      <td>9312</td>\n",
       "      <td>9408</td>\n",
       "      <td>9504</td>\n",
       "    </tr>\n",
       "    <tr>\n",
       "      <th>97</th>\n",
       "      <td>0</td>\n",
       "      <td>97</td>\n",
       "      <td>194</td>\n",
       "      <td>291</td>\n",
       "      <td>388</td>\n",
       "      <td>485</td>\n",
       "      <td>582</td>\n",
       "      <td>679</td>\n",
       "      <td>776</td>\n",
       "      <td>873</td>\n",
       "      <td>...</td>\n",
       "      <td>8730</td>\n",
       "      <td>8827</td>\n",
       "      <td>8924</td>\n",
       "      <td>9021</td>\n",
       "      <td>9118</td>\n",
       "      <td>9215</td>\n",
       "      <td>9312</td>\n",
       "      <td>9409</td>\n",
       "      <td>9506</td>\n",
       "      <td>9603</td>\n",
       "    </tr>\n",
       "    <tr>\n",
       "      <th>98</th>\n",
       "      <td>0</td>\n",
       "      <td>98</td>\n",
       "      <td>196</td>\n",
       "      <td>294</td>\n",
       "      <td>392</td>\n",
       "      <td>490</td>\n",
       "      <td>588</td>\n",
       "      <td>686</td>\n",
       "      <td>784</td>\n",
       "      <td>882</td>\n",
       "      <td>...</td>\n",
       "      <td>8820</td>\n",
       "      <td>8918</td>\n",
       "      <td>9016</td>\n",
       "      <td>9114</td>\n",
       "      <td>9212</td>\n",
       "      <td>9310</td>\n",
       "      <td>9408</td>\n",
       "      <td>9506</td>\n",
       "      <td>9604</td>\n",
       "      <td>9702</td>\n",
       "    </tr>\n",
       "    <tr>\n",
       "      <th>99</th>\n",
       "      <td>0</td>\n",
       "      <td>99</td>\n",
       "      <td>198</td>\n",
       "      <td>297</td>\n",
       "      <td>396</td>\n",
       "      <td>495</td>\n",
       "      <td>594</td>\n",
       "      <td>693</td>\n",
       "      <td>792</td>\n",
       "      <td>891</td>\n",
       "      <td>...</td>\n",
       "      <td>8910</td>\n",
       "      <td>9009</td>\n",
       "      <td>9108</td>\n",
       "      <td>9207</td>\n",
       "      <td>9306</td>\n",
       "      <td>9405</td>\n",
       "      <td>9504</td>\n",
       "      <td>9603</td>\n",
       "      <td>9702</td>\n",
       "      <td>9801</td>\n",
       "    </tr>\n",
       "  </tbody>\n",
       "</table>\n",
       "<p>100 rows × 100 columns</p>\n",
       "</div>"
      ],
      "text/plain": [
       "    0   1    2    3    4    5    6    7    8    9   ...    90    91    92  \\\n",
       "0    0   0    0    0    0    0    0    0    0    0  ...     0     0     0   \n",
       "1    0   1    2    3    4    5    6    7    8    9  ...    90    91    92   \n",
       "2    0   2    4    6    8   10   12   14   16   18  ...   180   182   184   \n",
       "3    0   3    6    9   12   15   18   21   24   27  ...   270   273   276   \n",
       "4    0   4    8   12   16   20   24   28   32   36  ...   360   364   368   \n",
       "..  ..  ..  ...  ...  ...  ...  ...  ...  ...  ...  ...   ...   ...   ...   \n",
       "95   0  95  190  285  380  475  570  665  760  855  ...  8550  8645  8740   \n",
       "96   0  96  192  288  384  480  576  672  768  864  ...  8640  8736  8832   \n",
       "97   0  97  194  291  388  485  582  679  776  873  ...  8730  8827  8924   \n",
       "98   0  98  196  294  392  490  588  686  784  882  ...  8820  8918  9016   \n",
       "99   0  99  198  297  396  495  594  693  792  891  ...  8910  9009  9108   \n",
       "\n",
       "      93    94    95    96    97    98    99  \n",
       "0      0     0     0     0     0     0     0  \n",
       "1     93    94    95    96    97    98    99  \n",
       "2    186   188   190   192   194   196   198  \n",
       "3    279   282   285   288   291   294   297  \n",
       "4    372   376   380   384   388   392   396  \n",
       "..   ...   ...   ...   ...   ...   ...   ...  \n",
       "95  8835  8930  9025  9120  9215  9310  9405  \n",
       "96  8928  9024  9120  9216  9312  9408  9504  \n",
       "97  9021  9118  9215  9312  9409  9506  9603  \n",
       "98  9114  9212  9310  9408  9506  9604  9702  \n",
       "99  9207  9306  9405  9504  9603  9702  9801  \n",
       "\n",
       "[100 rows x 100 columns]"
      ]
     },
     "execution_count": 66,
     "metadata": {},
     "output_type": "execute_result"
    }
   ],
   "source": [
    "pd.DataFrame(a)"
   ]
  },
  {
   "cell_type": "code",
   "execution_count": 67,
   "id": "5f9d0a7d",
   "metadata": {},
   "outputs": [
    {
     "data": {
      "text/plain": [
       "array([[3.79700578e-02, 5.75990561e-01, 8.19884386e-01, 6.83387938e-02],\n",
       "       [3.21587533e-01, 7.00835297e-01, 7.00592696e-01, 7.11560856e-01],\n",
       "       [9.25162939e-01, 5.84188130e-01, 2.88415428e-01, 9.58054592e-01],\n",
       "       [2.73415129e-01, 8.83058747e-01, 1.66562198e-01, 1.80871007e-01],\n",
       "       [7.75980551e-01, 9.75767670e-01, 7.10351161e-01, 3.16949188e-01],\n",
       "       [4.92766097e-01, 7.61682577e-01, 8.35869196e-01, 1.42149080e-01],\n",
       "       [5.96686155e-02, 3.58421063e-01, 9.74179069e-01, 7.96226130e-01],\n",
       "       [1.72550163e-01, 1.82046340e-01, 3.88909042e-01, 7.46839928e-01],\n",
       "       [5.45238343e-01, 1.75090143e-01, 1.42028773e-01, 6.14712326e-01],\n",
       "       [6.73898643e-02, 5.47909639e-01, 7.47554565e-01, 5.63263452e-01],\n",
       "       [9.61115322e-02, 5.98402047e-01, 8.92503084e-01, 2.56737809e-01],\n",
       "       [1.98622790e-01, 3.35137473e-01, 7.16297417e-01, 8.23805777e-01],\n",
       "       [5.84731085e-01, 9.95665971e-01, 2.99270384e-02, 9.43937127e-01],\n",
       "       [3.22086463e-01, 2.76572628e-01, 7.16068965e-01, 9.10304997e-01],\n",
       "       [6.67659910e-01, 9.71953808e-01, 2.55919603e-01, 4.83406545e-01],\n",
       "       [1.13615338e-01, 2.29067423e-01, 1.90715338e-01, 4.15298102e-01],\n",
       "       [6.42238049e-02, 1.79108481e-01, 2.85647426e-01, 3.46670885e-01],\n",
       "       [4.49946923e-01, 7.12409927e-01, 1.89938214e-01, 2.68304682e-01],\n",
       "       [2.73871079e-01, 3.60724255e-02, 4.07834594e-02, 9.26639977e-01],\n",
       "       [6.98546987e-01, 4.80286784e-01, 1.42877040e-01, 4.17262925e-01],\n",
       "       [2.30203253e-01, 2.86294184e-01, 6.96864176e-01, 7.65120482e-01],\n",
       "       [5.18791974e-02, 9.16672736e-01, 4.54948290e-01, 5.40278631e-01],\n",
       "       [7.14440927e-01, 8.75668223e-01, 1.27184799e-01, 4.20335624e-01],\n",
       "       [5.60062470e-01, 7.22537587e-01, 8.17287774e-01, 3.19784296e-01],\n",
       "       [7.29308716e-01, 7.87958041e-02, 6.09455703e-01, 2.43966099e-01],\n",
       "       [2.98490216e-01, 6.51996362e-01, 2.84204328e-01, 8.10045929e-01],\n",
       "       [2.36330068e-01, 8.07071261e-01, 8.77593268e-01, 7.27771010e-01],\n",
       "       [1.00480777e-01, 2.86696925e-01, 7.60200755e-02, 4.48300096e-01],\n",
       "       [8.78766690e-01, 2.54846612e-01, 1.37015910e-01, 8.25527045e-01],\n",
       "       [1.43345419e-01, 3.17116104e-01, 1.15940905e-01, 8.03977064e-01],\n",
       "       [4.75164839e-01, 1.87706074e-01, 8.54848009e-01, 9.56005657e-01],\n",
       "       [5.49446329e-01, 3.79494101e-01, 2.35777840e-01, 5.02629370e-01],\n",
       "       [3.16742516e-01, 2.45284741e-02, 7.26194210e-01, 5.85383932e-02],\n",
       "       [3.44821862e-01, 1.32864163e-01, 1.21004562e-03, 8.68608571e-01],\n",
       "       [5.95843117e-01, 4.17530806e-01, 8.86312434e-01, 2.34892964e-01],\n",
       "       [8.79229871e-01, 1.78124733e-01, 2.12847111e-01, 4.18163071e-01],\n",
       "       [1.29836601e-01, 2.84517167e-01, 7.27471575e-01, 2.53852174e-01],\n",
       "       [3.82472340e-01, 8.95862745e-01, 2.08722037e-01, 5.42857620e-01],\n",
       "       [7.32074212e-01, 9.53525729e-01, 5.31307882e-01, 5.90098563e-01],\n",
       "       [4.28852754e-01, 2.21986558e-01, 3.73093256e-01, 4.13320900e-01],\n",
       "       [1.53186483e-01, 7.73955844e-01, 6.14175265e-01, 5.69723757e-01],\n",
       "       [6.76302327e-01, 5.12784567e-01, 3.08653980e-01, 3.53150061e-01],\n",
       "       [5.47983288e-01, 9.18047735e-01, 2.88640272e-01, 4.82625989e-02],\n",
       "       [8.45457267e-01, 5.99568329e-01, 9.88780877e-01, 2.67272165e-01],\n",
       "       [4.89365334e-01, 9.57835021e-01, 2.98302623e-01, 7.22336648e-01],\n",
       "       [1.03979912e-01, 2.52485852e-01, 2.60412560e-01, 2.28522506e-02],\n",
       "       [9.13803133e-01, 9.70848292e-01, 8.22444897e-01, 2.59851212e-01],\n",
       "       [7.53095190e-01, 5.91412426e-01, 2.69374700e-01, 3.80931671e-02],\n",
       "       [2.50905217e-01, 4.09499043e-01, 1.98933571e-01, 1.27702724e-01],\n",
       "       [9.14662586e-01, 8.96419950e-01, 7.12536396e-01, 4.17160207e-01],\n",
       "       [5.12125768e-01, 9.20480096e-01, 4.33537218e-01, 9.13727661e-01],\n",
       "       [7.81651294e-01, 1.24936629e-01, 8.34338766e-01, 9.34813932e-01],\n",
       "       [7.03976096e-01, 4.04760422e-01, 4.54365053e-03, 4.97594523e-01],\n",
       "       [8.37982819e-01, 3.58661312e-01, 6.50161862e-01, 8.44851897e-04],\n",
       "       [9.82578366e-01, 2.22441434e-01, 5.86226409e-01, 6.32167937e-01],\n",
       "       [4.70737088e-01, 9.38162748e-01, 4.96787047e-01, 1.17060868e-01],\n",
       "       [3.62349693e-01, 8.05921643e-01, 9.05485520e-01, 5.47345524e-01],\n",
       "       [1.33158186e-01, 4.55327294e-01, 2.37050097e-01, 3.76512298e-01],\n",
       "       [3.78257450e-01, 3.65472421e-01, 4.37120859e-01, 1.38722924e-01],\n",
       "       [6.59463633e-01, 6.92393098e-01, 8.87638168e-01, 9.11477618e-01],\n",
       "       [5.12757439e-01, 5.44016926e-01, 4.77652258e-01, 8.67335052e-01],\n",
       "       [9.02183689e-01, 3.12226874e-02, 9.36524585e-01, 4.94010315e-01],\n",
       "       [9.49689478e-01, 1.14175047e-01, 8.57076991e-01, 4.69610964e-01],\n",
       "       [3.57777377e-01, 9.54206178e-01, 8.67430070e-01, 2.58463795e-01],\n",
       "       [6.25892208e-03, 2.81480249e-01, 8.28543547e-02, 5.44347377e-01],\n",
       "       [2.04002686e-01, 2.38011155e-01, 2.72293418e-02, 6.71543050e-01],\n",
       "       [5.98132622e-01, 5.85235242e-01, 1.79024586e-01, 9.99931728e-01],\n",
       "       [7.45355267e-01, 5.99549185e-01, 2.02798219e-01, 5.28293253e-01],\n",
       "       [8.23726189e-01, 5.48870639e-01, 2.80504966e-01, 9.94467990e-01],\n",
       "       [2.29837806e-01, 3.15132392e-01, 8.09519195e-03, 1.26101965e-01],\n",
       "       [6.29787751e-01, 6.62864516e-02, 9.79688918e-01, 5.43386259e-01],\n",
       "       [1.99987404e-01, 6.67141519e-01, 1.56621650e-01, 2.14975778e-01],\n",
       "       [9.06365285e-01, 5.21243356e-01, 1.92616824e-01, 5.41598563e-02],\n",
       "       [2.86050976e-01, 1.14983947e-01, 2.38876485e-01, 8.20459548e-01],\n",
       "       [1.40241063e-01, 6.25337209e-01, 5.43451699e-01, 6.43534953e-01],\n",
       "       [1.37671412e-01, 1.46482669e-01, 6.35392023e-01, 1.52197960e-01],\n",
       "       [3.40596115e-01, 9.11656947e-01, 5.24051034e-01, 8.14356577e-01],\n",
       "       [3.37511319e-02, 1.45256676e-02, 4.63633600e-01, 8.17009720e-01],\n",
       "       [6.09452275e-01, 3.44738983e-02, 3.78746382e-01, 5.99769929e-01],\n",
       "       [4.60897067e-01, 8.49690695e-01, 2.24856895e-01, 9.98258497e-01],\n",
       "       [5.69398028e-01, 2.05593847e-01, 5.23481449e-01, 2.73426693e-01],\n",
       "       [7.41506161e-01, 9.61973795e-01, 3.64440462e-02, 4.64431108e-01],\n",
       "       [8.26383811e-01, 6.70490530e-01, 9.06961885e-01, 2.18118661e-01],\n",
       "       [1.92016292e-01, 2.34215305e-01, 1.78591364e-02, 7.82887592e-01],\n",
       "       [2.52757504e-01, 4.26913159e-01, 3.82037999e-01, 5.93770560e-02],\n",
       "       [2.04064026e-01, 3.69535244e-02, 6.91339039e-01, 7.61476047e-01],\n",
       "       [7.16056444e-01, 8.62323582e-02, 2.82773514e-01, 1.33881559e-01],\n",
       "       [9.51412673e-02, 2.07242139e-02, 5.33672915e-01, 6.26054140e-01],\n",
       "       [1.57085018e-01, 6.44556581e-01, 6.26082657e-02, 8.80169218e-01],\n",
       "       [4.84166517e-01, 8.18343464e-01, 9.02571560e-02, 5.83282142e-01],\n",
       "       [1.64374994e-01, 5.93672541e-01, 3.51435823e-01, 9.41310321e-01],\n",
       "       [1.73372642e-01, 6.68207329e-01, 4.69060037e-01, 1.99309753e-02],\n",
       "       [8.98741632e-01, 4.23943695e-01, 4.81364263e-01, 1.58180282e-01],\n",
       "       [9.26232041e-02, 7.33579241e-01, 8.93322105e-01, 6.65798275e-01],\n",
       "       [2.44371578e-02, 5.26525124e-01, 7.69877030e-01, 6.38850192e-01],\n",
       "       [2.59139972e-01, 7.23724346e-02, 3.79837700e-01, 8.10076028e-01],\n",
       "       [2.04706208e-01, 9.86156602e-01, 2.66833985e-01, 7.68052129e-01],\n",
       "       [8.10260834e-04, 8.98986757e-01, 3.62199462e-01, 8.66855603e-01],\n",
       "       [9.11542268e-01, 8.02390351e-01, 8.35586480e-01, 5.80810746e-01],\n",
       "       [8.71367959e-01, 8.83792530e-01, 2.17244472e-01, 4.59435591e-01]])"
      ]
     },
     "execution_count": 67,
     "metadata": {},
     "output_type": "execute_result"
    }
   ],
   "source": [
    "np.random.rand(100,4)"
   ]
  },
  {
   "cell_type": "code",
   "execution_count": 68,
   "id": "167e2d12",
   "metadata": {},
   "outputs": [
    {
     "data": {
      "text/plain": [
       "5"
      ]
     },
     "execution_count": 68,
     "metadata": {},
     "output_type": "execute_result"
    }
   ],
   "source": [
    "np.random.randint(4,50)"
   ]
  },
  {
   "cell_type": "code",
   "execution_count": 69,
   "id": "a6abf6ee",
   "metadata": {},
   "outputs": [
    {
     "data": {
      "text/html": [
       "<div>\n",
       "<style scoped>\n",
       "    .dataframe tbody tr th:only-of-type {\n",
       "        vertical-align: middle;\n",
       "    }\n",
       "\n",
       "    .dataframe tbody tr th {\n",
       "        vertical-align: top;\n",
       "    }\n",
       "\n",
       "    .dataframe thead th {\n",
       "        text-align: right;\n",
       "    }\n",
       "</style>\n",
       "<table border=\"1\" class=\"dataframe\">\n",
       "  <thead>\n",
       "    <tr style=\"text-align: right;\">\n",
       "      <th></th>\n",
       "      <th>0</th>\n",
       "      <th>1</th>\n",
       "      <th>2</th>\n",
       "      <th>3</th>\n",
       "      <th>4</th>\n",
       "    </tr>\n",
       "  </thead>\n",
       "  <tbody>\n",
       "    <tr>\n",
       "      <th>0</th>\n",
       "      <td>0.481749</td>\n",
       "      <td>0.803446</td>\n",
       "      <td>0.329952</td>\n",
       "      <td>0.596469</td>\n",
       "      <td>0.925773</td>\n",
       "    </tr>\n",
       "    <tr>\n",
       "      <th>1</th>\n",
       "      <td>-0.559242</td>\n",
       "      <td>-0.701621</td>\n",
       "      <td>2.304683</td>\n",
       "      <td>-0.233059</td>\n",
       "      <td>0.956393</td>\n",
       "    </tr>\n",
       "    <tr>\n",
       "      <th>2</th>\n",
       "      <td>0.430843</td>\n",
       "      <td>0.730873</td>\n",
       "      <td>-0.163522</td>\n",
       "      <td>-1.545523</td>\n",
       "      <td>-1.231656</td>\n",
       "    </tr>\n",
       "    <tr>\n",
       "      <th>3</th>\n",
       "      <td>-1.407090</td>\n",
       "      <td>0.290948</td>\n",
       "      <td>-0.183889</td>\n",
       "      <td>-0.476569</td>\n",
       "      <td>0.397441</td>\n",
       "    </tr>\n",
       "  </tbody>\n",
       "</table>\n",
       "</div>"
      ],
      "text/plain": [
       "          0         1         2         3         4\n",
       "0  0.481749  0.803446  0.329952  0.596469  0.925773\n",
       "1 -0.559242 -0.701621  2.304683 -0.233059  0.956393\n",
       "2  0.430843  0.730873 -0.163522 -1.545523 -1.231656\n",
       "3 -1.407090  0.290948 -0.183889 -0.476569  0.397441"
      ]
     },
     "execution_count": 69,
     "metadata": {},
     "output_type": "execute_result"
    }
   ],
   "source": [
    "pd.DataFrame(np.random.randn(4,5))"
   ]
  },
  {
   "cell_type": "code",
   "execution_count": 70,
   "id": "aaa680dc",
   "metadata": {},
   "outputs": [
    {
     "data": {
      "text/plain": [
       "24"
      ]
     },
     "execution_count": 70,
     "metadata": {},
     "output_type": "execute_result"
    }
   ],
   "source": [
    "a = np.fromfunction(lambda i, j,z: i*j*z, (4,3,2), dtype=int)\n",
    "a.size"
   ]
  },
  {
   "cell_type": "code",
   "execution_count": 71,
   "id": "1999e22f",
   "metadata": {},
   "outputs": [
    {
     "data": {
      "text/plain": [
       "array([[[[[[0]],\n",
       "\n",
       "          [[0]],\n",
       "\n",
       "          [[0]]]],\n",
       "\n",
       "\n",
       "\n",
       "        [[[[0]],\n",
       "\n",
       "          [[0]],\n",
       "\n",
       "          [[0]]]]],\n",
       "\n",
       "\n",
       "\n",
       "\n",
       "       [[[[[0]],\n",
       "\n",
       "          [[0]],\n",
       "\n",
       "          [[0]]]],\n",
       "\n",
       "\n",
       "\n",
       "        [[[[1]],\n",
       "\n",
       "          [[0]],\n",
       "\n",
       "          [[2]]]]],\n",
       "\n",
       "\n",
       "\n",
       "\n",
       "       [[[[[0]],\n",
       "\n",
       "          [[0]],\n",
       "\n",
       "          [[0]]]],\n",
       "\n",
       "\n",
       "\n",
       "        [[[[2]],\n",
       "\n",
       "          [[0]],\n",
       "\n",
       "          [[4]]]]],\n",
       "\n",
       "\n",
       "\n",
       "\n",
       "       [[[[[0]],\n",
       "\n",
       "          [[0]],\n",
       "\n",
       "          [[0]]]],\n",
       "\n",
       "\n",
       "\n",
       "        [[[[3]],\n",
       "\n",
       "          [[0]],\n",
       "\n",
       "          [[6]]]]]])"
      ]
     },
     "execution_count": 71,
     "metadata": {},
     "output_type": "execute_result"
    }
   ],
   "source": [
    "a.reshape(4,2,1,3,1,1)"
   ]
  },
  {
   "cell_type": "code",
   "execution_count": 72,
   "id": "b3846a6d",
   "metadata": {},
   "outputs": [
    {
     "data": {
      "text/plain": [
       "array([[[0, 0],\n",
       "        [0, 0],\n",
       "        [0, 0]],\n",
       "\n",
       "       [[0, 0],\n",
       "        [0, 1],\n",
       "        [0, 2]],\n",
       "\n",
       "       [[0, 0],\n",
       "        [0, 2],\n",
       "        [0, 4]],\n",
       "\n",
       "       [[0, 0],\n",
       "        [0, 3],\n",
       "        [0, 6]]])"
      ]
     },
     "execution_count": 72,
     "metadata": {},
     "output_type": "execute_result"
    }
   ],
   "source": [
    "a.reshape(4,3,2)"
   ]
  },
  {
   "cell_type": "code",
   "execution_count": 73,
   "id": "d701ea96",
   "metadata": {},
   "outputs": [
    {
     "data": {
      "text/plain": [
       "array([[0, 0, 0, 0, 0, 0],\n",
       "       [0, 0, 0, 1, 0, 2],\n",
       "       [0, 0, 0, 2, 0, 4],\n",
       "       [0, 0, 0, 3, 0, 6]])"
      ]
     },
     "execution_count": 73,
     "metadata": {},
     "output_type": "execute_result"
    }
   ],
   "source": [
    " a.reshape(4,-1) # here -1 is the remaing fraction of a took by function"
   ]
  },
  {
   "cell_type": "code",
   "execution_count": 74,
   "id": "46bd1267",
   "metadata": {},
   "outputs": [
    {
     "data": {
      "text/plain": [
       "array([[0, 0, 0, 0, 0, 0, 0, 0, 0, 1, 0, 2],\n",
       "       [0, 0, 0, 2, 0, 4, 0, 0, 0, 3, 0, 6]])"
      ]
     },
     "execution_count": 74,
     "metadata": {},
     "output_type": "execute_result"
    }
   ],
   "source": [
    "a.reshape(2,-1)"
   ]
  },
  {
   "cell_type": "code",
   "execution_count": 75,
   "id": "3b28d6be",
   "metadata": {},
   "outputs": [
    {
     "data": {
      "text/plain": [
       "array([[0, 0, 0, 0, 0, 0, 0, 0, 0, 1, 0, 2],\n",
       "       [0, 0, 0, 2, 0, 4, 0, 0, 0, 3, 0, 6]])"
      ]
     },
     "execution_count": 75,
     "metadata": {},
     "output_type": "execute_result"
    }
   ],
   "source": [
    "a.reshape(2,-12345) # any negative number will work "
   ]
  },
  {
   "cell_type": "code",
   "execution_count": 76,
   "id": "d8c3a624",
   "metadata": {},
   "outputs": [
    {
     "data": {
      "text/plain": [
       "array([[[0, 0, 0],\n",
       "        [0, 0, 0],\n",
       "        [0, 0, 0],\n",
       "        [1, 0, 2]],\n",
       "\n",
       "       [[0, 0, 0],\n",
       "        [2, 0, 4],\n",
       "        [0, 0, 0],\n",
       "        [3, 0, 6]]])"
      ]
     },
     "execution_count": 76,
     "metadata": {},
     "output_type": "execute_result"
    }
   ],
   "source": [
    "a.reshape(2,4,-125)"
   ]
  },
  {
   "cell_type": "code",
   "execution_count": 77,
   "id": "a26e145b",
   "metadata": {},
   "outputs": [
    {
     "data": {
      "text/html": [
       "<div>\n",
       "<style scoped>\n",
       "    .dataframe tbody tr th:only-of-type {\n",
       "        vertical-align: middle;\n",
       "    }\n",
       "\n",
       "    .dataframe tbody tr th {\n",
       "        vertical-align: top;\n",
       "    }\n",
       "\n",
       "    .dataframe thead th {\n",
       "        text-align: right;\n",
       "    }\n",
       "</style>\n",
       "<table border=\"1\" class=\"dataframe\">\n",
       "  <thead>\n",
       "    <tr style=\"text-align: right;\">\n",
       "      <th></th>\n",
       "      <th>0</th>\n",
       "      <th>1</th>\n",
       "      <th>2</th>\n",
       "      <th>3</th>\n",
       "    </tr>\n",
       "  </thead>\n",
       "  <tbody>\n",
       "    <tr>\n",
       "      <th>0</th>\n",
       "      <td>0</td>\n",
       "      <td>0</td>\n",
       "      <td>0</td>\n",
       "      <td>0</td>\n",
       "    </tr>\n",
       "    <tr>\n",
       "      <th>1</th>\n",
       "      <td>0</td>\n",
       "      <td>0</td>\n",
       "      <td>0</td>\n",
       "      <td>0</td>\n",
       "    </tr>\n",
       "    <tr>\n",
       "      <th>2</th>\n",
       "      <td>0</td>\n",
       "      <td>1</td>\n",
       "      <td>0</td>\n",
       "      <td>2</td>\n",
       "    </tr>\n",
       "    <tr>\n",
       "      <th>3</th>\n",
       "      <td>0</td>\n",
       "      <td>0</td>\n",
       "      <td>0</td>\n",
       "      <td>2</td>\n",
       "    </tr>\n",
       "    <tr>\n",
       "      <th>4</th>\n",
       "      <td>0</td>\n",
       "      <td>4</td>\n",
       "      <td>0</td>\n",
       "      <td>0</td>\n",
       "    </tr>\n",
       "    <tr>\n",
       "      <th>5</th>\n",
       "      <td>0</td>\n",
       "      <td>3</td>\n",
       "      <td>0</td>\n",
       "      <td>6</td>\n",
       "    </tr>\n",
       "  </tbody>\n",
       "</table>\n",
       "</div>"
      ],
      "text/plain": [
       "   0  1  2  3\n",
       "0  0  0  0  0\n",
       "1  0  0  0  0\n",
       "2  0  1  0  2\n",
       "3  0  0  0  2\n",
       "4  0  4  0  0\n",
       "5  0  3  0  6"
      ]
     },
     "execution_count": 77,
     "metadata": {},
     "output_type": "execute_result"
    }
   ],
   "source": [
    "pd.DataFrame(a.reshape(6,4)) # must be the fraction of size of a"
   ]
  },
  {
   "cell_type": "code",
   "execution_count": 78,
   "id": "d9dc8e82",
   "metadata": {},
   "outputs": [
    {
     "data": {
      "text/plain": [
       "[4, 6, 8]"
      ]
     },
     "execution_count": 78,
     "metadata": {},
     "output_type": "execute_result"
    }
   ],
   "source": [
    "list(range(4,10,2))"
   ]
  },
  {
   "cell_type": "code",
   "execution_count": 79,
   "id": "564e9eee",
   "metadata": {},
   "outputs": [],
   "source": [
    "a1 = list(np.arange(4,10.5,0.2))"
   ]
  },
  {
   "cell_type": "code",
   "execution_count": 80,
   "id": "9fa4dc18",
   "metadata": {},
   "outputs": [
    {
     "data": {
      "text/plain": [
       "[4.0,\n",
       " 4.2,\n",
       " 4.4,\n",
       " 4.6000000000000005,\n",
       " 4.800000000000001,\n",
       " 5.000000000000001,\n",
       " 5.200000000000001,\n",
       " 5.400000000000001,\n",
       " 5.600000000000001,\n",
       " 5.800000000000002,\n",
       " 6.000000000000002,\n",
       " 6.200000000000002,\n",
       " 6.400000000000002,\n",
       " 6.600000000000002,\n",
       " 6.8000000000000025,\n",
       " 7.000000000000003,\n",
       " 7.200000000000003,\n",
       " 7.400000000000003,\n",
       " 7.600000000000003,\n",
       " 7.800000000000003,\n",
       " 8.000000000000004,\n",
       " 8.200000000000003,\n",
       " 8.400000000000004,\n",
       " 8.600000000000005,\n",
       " 8.800000000000004,\n",
       " 9.000000000000004,\n",
       " 9.200000000000005,\n",
       " 9.400000000000006,\n",
       " 9.600000000000005,\n",
       " 9.800000000000004,\n",
       " 10.000000000000005,\n",
       " 10.200000000000006,\n",
       " 10.400000000000006]"
      ]
     },
     "execution_count": 80,
     "metadata": {},
     "output_type": "execute_result"
    }
   ],
   "source": [
    "a1"
   ]
  },
  {
   "cell_type": "code",
   "execution_count": 81,
   "id": "cb21050c",
   "metadata": {},
   "outputs": [
    {
     "data": {
      "text/plain": [
       "[4.2, 4.4, 4.6000000000000005]"
      ]
     },
     "execution_count": 81,
     "metadata": {},
     "output_type": "execute_result"
    }
   ],
   "source": [
    "a1[1:4]"
   ]
  },
  {
   "cell_type": "code",
   "execution_count": 82,
   "id": "4e0822f8",
   "metadata": {},
   "outputs": [],
   "source": [
    "arr = np.random.rand(4,5)"
   ]
  },
  {
   "cell_type": "code",
   "execution_count": 83,
   "id": "5139eef2",
   "metadata": {},
   "outputs": [
    {
     "data": {
      "text/plain": [
       "array([[0.72678206, 0.75676059, 0.39831653, 0.06431879, 0.40478526],\n",
       "       [0.01589161, 0.57059165, 0.35293478, 0.85344061, 0.06327443],\n",
       "       [0.40377414, 0.28402801, 0.36248113, 0.95982883, 0.38646652],\n",
       "       [0.69529514, 0.84677662, 0.94782171, 0.57217076, 0.03865592]])"
      ]
     },
     "execution_count": 83,
     "metadata": {},
     "output_type": "execute_result"
    }
   ],
   "source": [
    "arr"
   ]
  },
  {
   "cell_type": "code",
   "execution_count": 84,
   "id": "60674965",
   "metadata": {},
   "outputs": [
    {
     "data": {
      "text/plain": [
       "array([0.72678206, 0.75676059, 0.57059165, 0.85344061, 0.95982883,\n",
       "       0.69529514, 0.84677662, 0.94782171, 0.57217076])"
      ]
     },
     "execution_count": 84,
     "metadata": {},
     "output_type": "execute_result"
    }
   ],
   "source": [
    "arr[arr > 0.5]"
   ]
  },
  {
   "cell_type": "code",
   "execution_count": 85,
   "id": "af30342c",
   "metadata": {},
   "outputs": [
    {
     "data": {
      "text/plain": [
       "array([[0.35293478],\n",
       "       [0.36248113]])"
      ]
     },
     "execution_count": 85,
     "metadata": {},
     "output_type": "execute_result"
    }
   ],
   "source": [
    "arr[1:3,2:3]"
   ]
  },
  {
   "cell_type": "code",
   "execution_count": 86,
   "id": "6347f1ed",
   "metadata": {},
   "outputs": [
    {
     "data": {
      "text/plain": [
       "array([0.35293478, 0.36248113])"
      ]
     },
     "execution_count": 86,
     "metadata": {},
     "output_type": "execute_result"
    }
   ],
   "source": [
    "arr[[1,2],[2]]"
   ]
  },
  {
   "cell_type": "code",
   "execution_count": 87,
   "id": "e4a759af",
   "metadata": {},
   "outputs": [],
   "source": [
    "arr = np.random.rand(8,5)"
   ]
  },
  {
   "cell_type": "code",
   "execution_count": 88,
   "id": "3ce657d0",
   "metadata": {},
   "outputs": [
    {
     "data": {
      "text/plain": [
       "array([[0.5207454 , 0.41086618, 0.73808737, 0.08205535, 0.84386942],\n",
       "       [0.43065041, 0.97246916, 0.15569023, 0.51330247, 0.32931245],\n",
       "       [0.28921206, 0.0732684 , 0.93559348, 0.83022772, 0.28182398],\n",
       "       [0.82435303, 0.04730521, 0.30686776, 0.33548258, 0.97385701],\n",
       "       [0.32299902, 0.84950867, 0.71205468, 0.88997352, 0.5700074 ],\n",
       "       [0.15355843, 0.33306753, 0.42415218, 0.66982559, 0.89552432],\n",
       "       [0.98239999, 0.52938729, 0.29642148, 0.71858409, 0.25245172],\n",
       "       [0.23760185, 0.62254615, 0.97814858, 0.39916696, 0.97349798]])"
      ]
     },
     "execution_count": 88,
     "metadata": {},
     "output_type": "execute_result"
    }
   ],
   "source": [
    "arr"
   ]
  },
  {
   "cell_type": "code",
   "execution_count": 89,
   "id": "91e8c3c1",
   "metadata": {},
   "outputs": [
    {
     "data": {
      "text/plain": [
       "array([[0.43065041, 0.97246916],\n",
       "       [0.28921206, 0.0732684 ],\n",
       "       [0.82435303, 0.04730521],\n",
       "       [0.32299902, 0.84950867],\n",
       "       [0.15355843, 0.33306753],\n",
       "       [0.98239999, 0.52938729],\n",
       "       [0.23760185, 0.62254615]])"
      ]
     },
     "execution_count": 89,
     "metadata": {},
     "output_type": "execute_result"
    }
   ],
   "source": [
    "arr[1:8,0:2]"
   ]
  },
  {
   "cell_type": "code",
   "execution_count": 90,
   "id": "e3c5fb79",
   "metadata": {},
   "outputs": [],
   "source": [
    "a2 = arr[1:8,[0,1,2]]"
   ]
  },
  {
   "cell_type": "code",
   "execution_count": 91,
   "id": "d84d4bac",
   "metadata": {},
   "outputs": [
    {
     "data": {
      "text/plain": [
       "array([[0.43065041, 0.97246916, 0.15569023],\n",
       "       [0.28921206, 0.0732684 , 0.93559348],\n",
       "       [0.82435303, 0.04730521, 0.30686776],\n",
       "       [0.32299902, 0.84950867, 0.71205468],\n",
       "       [0.15355843, 0.33306753, 0.42415218],\n",
       "       [0.98239999, 0.52938729, 0.29642148],\n",
       "       [0.23760185, 0.62254615, 0.97814858]])"
      ]
     },
     "execution_count": 91,
     "metadata": {},
     "output_type": "execute_result"
    }
   ],
   "source": [
    "a2"
   ]
  },
  {
   "cell_type": "code",
   "execution_count": 92,
   "id": "f38e87fd",
   "metadata": {},
   "outputs": [],
   "source": [
    "a2[0][0] = 100"
   ]
  },
  {
   "cell_type": "code",
   "execution_count": 93,
   "id": "aa333f8f",
   "metadata": {},
   "outputs": [
    {
     "data": {
      "text/plain": [
       "array([[1.00000000e+02, 9.72469160e-01, 1.55690227e-01],\n",
       "       [2.89212063e-01, 7.32683999e-02, 9.35593479e-01],\n",
       "       [8.24353029e-01, 4.73052081e-02, 3.06867758e-01],\n",
       "       [3.22999015e-01, 8.49508669e-01, 7.12054677e-01],\n",
       "       [1.53558434e-01, 3.33067533e-01, 4.24152181e-01],\n",
       "       [9.82399992e-01, 5.29387294e-01, 2.96421482e-01],\n",
       "       [2.37601848e-01, 6.22546151e-01, 9.78148578e-01]])"
      ]
     },
     "execution_count": 93,
     "metadata": {},
     "output_type": "execute_result"
    }
   ],
   "source": [
    "a2"
   ]
  },
  {
   "cell_type": "code",
   "execution_count": 94,
   "id": "4f1d348c",
   "metadata": {},
   "outputs": [],
   "source": [
    "a = np.array([[1,2],[3,4]])\n",
    "b = np.array([[2,3],[4,5]])"
   ]
  },
  {
   "cell_type": "code",
   "execution_count": 95,
   "id": "33f260e8",
   "metadata": {},
   "outputs": [
    {
     "data": {
      "text/plain": [
       "array([[1, 2],\n",
       "       [3, 4]])"
      ]
     },
     "execution_count": 95,
     "metadata": {},
     "output_type": "execute_result"
    }
   ],
   "source": [
    "a"
   ]
  },
  {
   "cell_type": "code",
   "execution_count": 96,
   "id": "8116518c",
   "metadata": {},
   "outputs": [
    {
     "data": {
      "text/plain": [
       "array([[2, 3],\n",
       "       [4, 5]])"
      ]
     },
     "execution_count": 96,
     "metadata": {},
     "output_type": "execute_result"
    }
   ],
   "source": [
    "b"
   ]
  },
  {
   "cell_type": "code",
   "execution_count": 97,
   "id": "5cb2cd33",
   "metadata": {},
   "outputs": [
    {
     "data": {
      "text/plain": [
       "array([[ 2,  6],\n",
       "       [12, 20]])"
      ]
     },
     "execution_count": 97,
     "metadata": {},
     "output_type": "execute_result"
    }
   ],
   "source": [
    "a*b"
   ]
  },
  {
   "cell_type": "code",
   "execution_count": 98,
   "id": "abe7ed7a",
   "metadata": {},
   "outputs": [
    {
     "data": {
      "text/plain": [
       "array([[10, 13],\n",
       "       [22, 29]])"
      ]
     },
     "execution_count": 98,
     "metadata": {},
     "output_type": "execute_result"
    }
   ],
   "source": [
    "a.dot(b)"
   ]
  },
  {
   "cell_type": "code",
   "execution_count": 99,
   "id": "4b5b7e9b",
   "metadata": {},
   "outputs": [],
   "source": [
    "m = a@b"
   ]
  },
  {
   "cell_type": "code",
   "execution_count": 100,
   "id": "a394034a",
   "metadata": {},
   "outputs": [
    {
     "data": {
      "text/plain": [
       "array([[10, 13],\n",
       "       [22, 29]])"
      ]
     },
     "execution_count": 100,
     "metadata": {},
     "output_type": "execute_result"
    }
   ],
   "source": [
    "m"
   ]
  },
  {
   "cell_type": "code",
   "execution_count": 101,
   "id": "6187df64",
   "metadata": {},
   "outputs": [
    {
     "name": "stderr",
     "output_type": "stream",
     "text": [
      "C:\\Users\\fazlu\\AppData\\Local\\Temp/ipykernel_6048/3791875896.py:1: RuntimeWarning: divide by zero encountered in true_divide\n",
      "  m/0\n"
     ]
    },
    {
     "data": {
      "text/plain": [
       "array([[inf, inf],\n",
       "       [inf, inf]])"
      ]
     },
     "execution_count": 101,
     "metadata": {},
     "output_type": "execute_result"
    }
   ],
   "source": [
    "m/0"
   ]
  },
  {
   "cell_type": "code",
   "execution_count": 102,
   "id": "11588975",
   "metadata": {},
   "outputs": [
    {
     "data": {
      "text/plain": [
       "array([[0., 0., 0., 0., 0.],\n",
       "       [0., 0., 0., 0., 0.],\n",
       "       [0., 0., 0., 0., 0.],\n",
       "       [0., 0., 0., 0., 0.]])"
      ]
     },
     "execution_count": 102,
     "metadata": {},
     "output_type": "execute_result"
    }
   ],
   "source": [
    "np.zeros((4,5))"
   ]
  },
  {
   "cell_type": "code",
   "execution_count": 103,
   "id": "ff341419",
   "metadata": {},
   "outputs": [
    {
     "data": {
      "text/plain": [
       "array([[6., 6., 6., 6., 6.],\n",
       "       [6., 6., 6., 6., 6.],\n",
       "       [6., 6., 6., 6., 6.],\n",
       "       [6., 6., 6., 6., 6.]])"
      ]
     },
     "execution_count": 103,
     "metadata": {},
     "output_type": "execute_result"
    }
   ],
   "source": [
    "6+np.zeros((4,5))"
   ]
  },
  {
   "cell_type": "code",
   "execution_count": 104,
   "id": "051f9376",
   "metadata": {},
   "outputs": [
    {
     "data": {
      "text/plain": [
       "array([[0.00000000e+000, 0.00000000e+000, 0.00000000e+000,\n",
       "        0.00000000e+000, 0.00000000e+000, 0.00000000e+000],\n",
       "       [0.00000000e+000, 0.00000000e+000, 0.00000000e+000,\n",
       "        2.12199579e-314, 0.00000000e+000, 4.24399158e-314],\n",
       "       [0.00000000e+000, 0.00000000e+000, 0.00000000e+000,\n",
       "        4.24399158e-314, 0.00000000e+000, 8.48798317e-314],\n",
       "       [0.00000000e+000, 0.00000000e+000, 0.00000000e+000,\n",
       "        6.36598737e-314, 0.00000000e+000, 1.27319747e-313]])"
      ]
     },
     "execution_count": 104,
     "metadata": {},
     "output_type": "execute_result"
    }
   ],
   "source": [
    "np.empty((4,6))"
   ]
  },
  {
   "cell_type": "code",
   "execution_count": 105,
   "id": "d3f9c365",
   "metadata": {},
   "outputs": [
    {
     "data": {
      "text/plain": [
       "array([[[ 0.00000000e+000,  1.58101007e-322,  6.95177187e-310],\n",
       "        [ 4.94065646e-323,  5.43472210e-323, -7.54342059e+303],\n",
       "        [ 3.03403406e-294,  1.32195286e-279,              nan],\n",
       "        [ 3.61579821e-152,  1.11200640e-311,  6.95177206e-310],\n",
       "        [-6.04216138e-091,  1.11200640e-311,  1.11200617e-311],\n",
       "        [ 2.40303143e+085,  1.11200640e-311,  1.11200640e-311]],\n",
       "\n",
       "       [[ 3.59469906e-154,  1.11199151e-311,  6.95177206e-310],\n",
       "        [-1.03794176e+131,  1.11196664e-311,  6.95177205e-310],\n",
       "        [-4.53383829e+011,  1.11200640e-311,  6.95177206e-310],\n",
       "        [ 1.15417514e+308,  1.11200640e-311,  1.11196602e-311],\n",
       "        [-1.34458927e+282,  1.11200641e-311,  1.11196602e-311],\n",
       "        [-6.89920723e+307,  1.11197361e-311,  1.11196626e-311]],\n",
       "\n",
       "       [[-3.28775371e+011,  1.11197333e-311,  6.95177205e-310],\n",
       "        [-1.27768808e+241,  1.11199179e-311,  6.95177205e-310],\n",
       "        [ 0.00000000e+000,  0.00000000e+000,  0.00000000e+000],\n",
       "        [ 0.00000000e+000,  0.00000000e+000,  0.00000000e+000],\n",
       "        [ 0.00000000e+000,  0.00000000e+000,  0.00000000e+000],\n",
       "        [ 0.00000000e+000,  0.00000000e+000,  0.00000000e+000]],\n",
       "\n",
       "       [[ 0.00000000e+000,  0.00000000e+000,  0.00000000e+000],\n",
       "        [ 0.00000000e+000,  0.00000000e+000,  0.00000000e+000],\n",
       "        [ 0.00000000e+000,  0.00000000e+000,  0.00000000e+000],\n",
       "        [ 0.00000000e+000,  0.00000000e+000,  0.00000000e+000],\n",
       "        [ 0.00000000e+000,  0.00000000e+000,  0.00000000e+000],\n",
       "        [ 0.00000000e+000,  0.00000000e+000,  0.00000000e+000]]])"
      ]
     },
     "execution_count": 105,
     "metadata": {},
     "output_type": "execute_result"
    }
   ],
   "source": [
    "np.empty((4,6,3))"
   ]
  },
  {
   "cell_type": "code",
   "execution_count": 106,
   "id": "39bab6de",
   "metadata": {},
   "outputs": [
    {
     "data": {
      "text/plain": [
       "array([2.        , 2.06122449, 2.12244898, 2.18367347, 2.24489796,\n",
       "       2.30612245, 2.36734694, 2.42857143, 2.48979592, 2.55102041,\n",
       "       2.6122449 , 2.67346939, 2.73469388, 2.79591837, 2.85714286,\n",
       "       2.91836735, 2.97959184, 3.04081633, 3.10204082, 3.16326531,\n",
       "       3.2244898 , 3.28571429, 3.34693878, 3.40816327, 3.46938776,\n",
       "       3.53061224, 3.59183673, 3.65306122, 3.71428571, 3.7755102 ,\n",
       "       3.83673469, 3.89795918, 3.95918367, 4.02040816, 4.08163265,\n",
       "       4.14285714, 4.20408163, 4.26530612, 4.32653061, 4.3877551 ,\n",
       "       4.44897959, 4.51020408, 4.57142857, 4.63265306, 4.69387755,\n",
       "       4.75510204, 4.81632653, 4.87755102, 4.93877551, 5.        ])"
      ]
     },
     "execution_count": 106,
     "metadata": {},
     "output_type": "execute_result"
    }
   ],
   "source": [
    "np.linspace(2,5)"
   ]
  },
  {
   "cell_type": "code",
   "execution_count": 107,
   "id": "bb27d4c7",
   "metadata": {},
   "outputs": [
    {
     "data": {
      "text/plain": [
       "array([2.        , 2.33333333, 2.66666667, 3.        , 3.33333333,\n",
       "       3.66666667, 4.        , 4.33333333, 4.66666667, 5.        ])"
      ]
     },
     "execution_count": 107,
     "metadata": {},
     "output_type": "execute_result"
    }
   ],
   "source": [
    "np.linspace(2,5,10)"
   ]
  },
  {
   "cell_type": "code",
   "execution_count": 108,
   "id": "adf4f711",
   "metadata": {},
   "outputs": [
    {
     "data": {
      "text/plain": [
       "array([[2.        , 2.33333333],\n",
       "       [2.66666667, 3.        ],\n",
       "       [3.33333333, 3.66666667],\n",
       "       [4.        , 4.33333333],\n",
       "       [4.66666667, 5.        ]])"
      ]
     },
     "execution_count": 108,
     "metadata": {},
     "output_type": "execute_result"
    }
   ],
   "source": [
    "np.linspace(2,5,10).reshape(5,2)"
   ]
  },
  {
   "cell_type": "code",
   "execution_count": 109,
   "id": "b6d043ff",
   "metadata": {},
   "outputs": [
    {
     "data": {
      "text/plain": [
       "(array([2.        , 2.33333333, 2.66666667, 3.        , 3.33333333,\n",
       "        3.66666667, 4.        , 4.33333333, 4.66666667, 5.        ]),\n",
       " 0.3333333333333333)"
      ]
     },
     "execution_count": 109,
     "metadata": {},
     "output_type": "execute_result"
    }
   ],
   "source": [
    "np.linspace(2,5,10,retstep=True)"
   ]
  },
  {
   "cell_type": "code",
   "execution_count": 110,
   "id": "cdab8125",
   "metadata": {},
   "outputs": [
    {
     "data": {
      "text/plain": [
       "array([ 32.        ,  33.86287719,  35.8342016 ,  37.9202865 ,\n",
       "        40.12781264,  42.46384973,  44.93587901,  47.55181725,\n",
       "        50.32004211,  53.24941894,  56.34932918,  59.62970042,\n",
       "        63.10103819,  66.77445958,  70.66172888,  74.77529521,\n",
       "        79.12833244,  83.73478136,  88.60939429,  93.76778239,\n",
       "        99.2264656 , 105.00292557, 111.11566165, 117.58425012,\n",
       "       124.4294069 , 131.67305388, 139.33838914, 147.44996121,\n",
       "       156.03374774, 165.11723864, 174.72952417, 184.90138806,\n",
       "       195.66540611, 207.05605052, 219.10980029, 231.86525805,\n",
       "       245.36327366, 259.64707506, 274.76240671, 290.75767606,\n",
       "       307.6841086 , 325.59591193, 344.55044931, 364.60842343,\n",
       "       385.83407074, 408.29536724, 432.06424614, 457.21682824,\n",
       "       483.83366569, 512.        ])"
      ]
     },
     "execution_count": 110,
     "metadata": {},
     "output_type": "execute_result"
    }
   ],
   "source": [
    "np.logspace(5,9,base=2)"
   ]
  },
  {
   "cell_type": "code",
   "execution_count": 111,
   "id": "19d2333c",
   "metadata": {},
   "outputs": [],
   "source": [
    "ab1=np.arange(10)"
   ]
  },
  {
   "cell_type": "code",
   "execution_count": 112,
   "id": "68b347af",
   "metadata": {},
   "outputs": [
    {
     "data": {
      "text/plain": [
       "array([[0, 1, 2, 3, 4],\n",
       "       [5, 6, 7, 8, 9]])"
      ]
     },
     "execution_count": 112,
     "metadata": {},
     "output_type": "execute_result"
    }
   ],
   "source": [
    "ab1.reshape(2,5)"
   ]
  },
  {
   "cell_type": "code",
   "execution_count": 113,
   "id": "30cc155c",
   "metadata": {},
   "outputs": [
    {
     "data": {
      "text/plain": [
       "9"
      ]
     },
     "execution_count": 113,
     "metadata": {},
     "output_type": "execute_result"
    }
   ],
   "source": [
    "ab1.max()"
   ]
  },
  {
   "cell_type": "code",
   "execution_count": 114,
   "id": "5330c024",
   "metadata": {},
   "outputs": [],
   "source": [
    "ab2=np.arange(4,40).reshape(2,6,3)"
   ]
  },
  {
   "cell_type": "code",
   "execution_count": 115,
   "id": "cfda935f",
   "metadata": {},
   "outputs": [
    {
     "data": {
      "text/plain": [
       "array([[[ 4,  5,  6],\n",
       "        [ 7,  8,  9],\n",
       "        [10, 11, 12],\n",
       "        [13, 14, 15],\n",
       "        [16, 17, 18],\n",
       "        [19, 20, 21]],\n",
       "\n",
       "       [[22, 23, 24],\n",
       "        [25, 26, 27],\n",
       "        [28, 29, 30],\n",
       "        [31, 32, 33],\n",
       "        [34, 35, 36],\n",
       "        [37, 38, 39]]])"
      ]
     },
     "execution_count": 115,
     "metadata": {},
     "output_type": "execute_result"
    }
   ],
   "source": [
    "ab2"
   ]
  },
  {
   "cell_type": "code",
   "execution_count": 116,
   "id": "42c824d5",
   "metadata": {},
   "outputs": [
    {
     "data": {
      "text/plain": [
       "array([[19, 20, 21],\n",
       "       [37, 38, 39]])"
      ]
     },
     "execution_count": 116,
     "metadata": {},
     "output_type": "execute_result"
    }
   ],
   "source": [
    "ab2.max(axis=1)"
   ]
  },
  {
   "cell_type": "code",
   "execution_count": 117,
   "id": "350dcd8b",
   "metadata": {},
   "outputs": [
    {
     "data": {
      "text/plain": [
       "7"
      ]
     },
     "execution_count": 117,
     "metadata": {},
     "output_type": "execute_result"
    }
   ],
   "source": [
    "ab2[0][1][0]"
   ]
  },
  {
   "cell_type": "code",
   "execution_count": 118,
   "id": "a06b9fbb",
   "metadata": {},
   "outputs": [
    {
     "data": {
      "text/plain": [
       "array([     0,      1,     64,    729,   4096,  15625,  46656, 117649,\n",
       "       262144, 531441], dtype=int32)"
      ]
     },
     "execution_count": 118,
     "metadata": {},
     "output_type": "execute_result"
    }
   ],
   "source": [
    "pow(ab1,6)"
   ]
  },
  {
   "cell_type": "code",
   "execution_count": null,
   "id": "9408f526",
   "metadata": {},
   "outputs": [],
   "source": []
  },
  {
   "cell_type": "code",
   "execution_count": null,
   "id": "e5274faa",
   "metadata": {},
   "outputs": [],
   "source": []
  },
  {
   "cell_type": "code",
   "execution_count": null,
   "id": "9bd7cedf",
   "metadata": {},
   "outputs": [],
   "source": []
  },
  {
   "cell_type": "code",
   "execution_count": null,
   "id": "5d955189",
   "metadata": {},
   "outputs": [],
   "source": [
    "a = np.arange(4,50)"
   ]
  },
  {
   "cell_type": "code",
   "execution_count": null,
   "id": "886fe809",
   "metadata": {},
   "outputs": [],
   "source": [
    "np.log10(a)"
   ]
  },
  {
   "cell_type": "code",
   "execution_count": null,
   "id": "2fed9269",
   "metadata": {},
   "outputs": [],
   "source": [
    "x = np.array([1,2,3])"
   ]
  },
  {
   "cell_type": "code",
   "execution_count": null,
   "id": "92efda40",
   "metadata": {},
   "outputs": [],
   "source": [
    "y = x"
   ]
  },
  {
   "cell_type": "code",
   "execution_count": null,
   "id": "6bf3b3de",
   "metadata": {},
   "outputs": [],
   "source": [
    "y"
   ]
  },
  {
   "cell_type": "code",
   "execution_count": null,
   "id": "2b1f0e5b",
   "metadata": {},
   "outputs": [],
   "source": [
    "z = np.copy(x)"
   ]
  },
  {
   "cell_type": "code",
   "execution_count": null,
   "id": "77c13f0b",
   "metadata": {},
   "outputs": [],
   "source": [
    "z"
   ]
  },
  {
   "cell_type": "code",
   "execution_count": null,
   "id": "141e2252",
   "metadata": {},
   "outputs": [],
   "source": [
    "x[0] = 100"
   ]
  },
  {
   "cell_type": "code",
   "execution_count": null,
   "id": "ab234ca2",
   "metadata": {},
   "outputs": [],
   "source": [
    "y"
   ]
  },
  {
   "cell_type": "code",
   "execution_count": null,
   "id": "f45db7a8",
   "metadata": {},
   "outputs": [],
   "source": [
    "z"
   ]
  },
  {
   "cell_type": "code",
   "execution_count": null,
   "id": "2edfd869",
   "metadata": {},
   "outputs": [],
   "source": [
    "id(x)"
   ]
  },
  {
   "cell_type": "code",
   "execution_count": null,
   "id": "275d701d",
   "metadata": {},
   "outputs": [],
   "source": [
    "id(y)"
   ]
  },
  {
   "cell_type": "code",
   "execution_count": null,
   "id": "addd528c",
   "metadata": {},
   "outputs": [],
   "source": [
    "id(z)"
   ]
  },
  {
   "cell_type": "code",
   "execution_count": null,
   "id": "f470441b",
   "metadata": {},
   "outputs": [],
   "source": [
    "id(x[0])"
   ]
  },
  {
   "cell_type": "code",
   "execution_count": null,
   "id": "04de768c",
   "metadata": {},
   "outputs": [],
   "source": [
    "id(y[0])"
   ]
  },
  {
   "cell_type": "code",
   "execution_count": null,
   "id": "a5172592",
   "metadata": {},
   "outputs": [],
   "source": [
    "id(x[1])"
   ]
  },
  {
   "cell_type": "code",
   "execution_count": null,
   "id": "9d31625f",
   "metadata": {},
   "outputs": [],
   "source": [
    "id(y[1])"
   ]
  },
  {
   "cell_type": "code",
   "execution_count": null,
   "id": "f223976b",
   "metadata": {},
   "outputs": [],
   "source": [
    "x = np.array([1,2,3])"
   ]
  },
  {
   "cell_type": "code",
   "execution_count": null,
   "id": "2316e982",
   "metadata": {},
   "outputs": [],
   "source": [
    "y = x"
   ]
  },
  {
   "cell_type": "code",
   "execution_count": null,
   "id": "5ca06583",
   "metadata": {},
   "outputs": [],
   "source": [
    "id(x)"
   ]
  },
  {
   "cell_type": "code",
   "execution_count": null,
   "id": "9e5154b9",
   "metadata": {},
   "outputs": [],
   "source": [
    "id(y)"
   ]
  },
  {
   "cell_type": "code",
   "execution_count": null,
   "id": "d2a0cdfc",
   "metadata": {},
   "outputs": [],
   "source": [
    "id(x[0])"
   ]
  },
  {
   "cell_type": "code",
   "execution_count": null,
   "id": "88fcbeb5",
   "metadata": {},
   "outputs": [],
   "source": [
    "id(y[0])"
   ]
  },
  {
   "cell_type": "code",
   "execution_count": null,
   "id": "4bcc6264",
   "metadata": {},
   "outputs": [],
   "source": [
    "su = np.array([457,345])"
   ]
  },
  {
   "cell_type": "code",
   "execution_count": null,
   "id": "c41d8b0f",
   "metadata": {},
   "outputs": [],
   "source": [
    "df = su"
   ]
  },
  {
   "cell_type": "code",
   "execution_count": null,
   "id": "48275ddb",
   "metadata": {},
   "outputs": [],
   "source": [
    "id(su)"
   ]
  },
  {
   "cell_type": "code",
   "execution_count": null,
   "id": "68e789a3",
   "metadata": {},
   "outputs": [],
   "source": [
    "id(df)"
   ]
  },
  {
   "cell_type": "code",
   "execution_count": null,
   "id": "966191f3",
   "metadata": {},
   "outputs": [],
   "source": [
    "id(su[0])"
   ]
  },
  {
   "cell_type": "code",
   "execution_count": null,
   "id": "f0dc0e5e",
   "metadata": {},
   "outputs": [],
   "source": [
    "id(df[0])"
   ]
  },
  {
   "cell_type": "code",
   "execution_count": null,
   "id": "8e5741a3",
   "metadata": {},
   "outputs": [],
   "source": [
    "id(su[1]) == id(df[1])"
   ]
  },
  {
   "cell_type": "code",
   "execution_count": null,
   "id": "1da62068",
   "metadata": {},
   "outputs": [],
   "source": [
    "id(su[1]) == id(df[0])"
   ]
  },
  {
   "cell_type": "code",
   "execution_count": null,
   "id": "f6078dab",
   "metadata": {},
   "outputs": [],
   "source": [
    "id(df) == id(su)"
   ]
  },
  {
   "cell_type": "code",
   "execution_count": null,
   "id": "cabe5a9b",
   "metadata": {},
   "outputs": [],
   "source": [
    "xt = np.array([34,67,89])"
   ]
  },
  {
   "cell_type": "code",
   "execution_count": null,
   "id": "f777506b",
   "metadata": {},
   "outputs": [],
   "source": [
    "id(xt[0]) == id(su[0])"
   ]
  },
  {
   "cell_type": "code",
   "execution_count": null,
   "id": "5505dc9d",
   "metadata": {},
   "outputs": [],
   "source": [
    "c = \"sudh\""
   ]
  },
  {
   "cell_type": "code",
   "execution_count": null,
   "id": "5b1a73c6",
   "metadata": {},
   "outputs": [],
   "source": [
    "id(c) == id(su)"
   ]
  },
  {
   "cell_type": "code",
   "execution_count": null,
   "id": "8d79373c",
   "metadata": {},
   "outputs": [],
   "source": []
  }
 ],
 "metadata": {
  "kernelspec": {
   "display_name": "Python 3",
   "language": "python",
   "name": "python3"
  },
  "language_info": {
   "codemirror_mode": {
    "name": "ipython",
    "version": 3
   },
   "file_extension": ".py",
   "mimetype": "text/x-python",
   "name": "python",
   "nbconvert_exporter": "python",
   "pygments_lexer": "ipython3",
   "version": "3.8.8"
  }
 },
 "nbformat": 4,
 "nbformat_minor": 5
}
